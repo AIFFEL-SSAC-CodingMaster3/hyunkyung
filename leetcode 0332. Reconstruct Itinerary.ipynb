{
 "cells": [
  {
   "cell_type": "markdown",
   "id": "varied-aruba",
   "metadata": {},
   "source": [
    "## [from, to] 로 구성된 항공권 목록을 이용해 JFK에서 출발하는 여행 일정을 구성하라. \n",
    "## 여러 일정이 있는 경우 사전 어휘 순(Lexical Order)으로 방문한다."
   ]
  },
  {
   "cell_type": "code",
   "execution_count": null,
   "id": "broadband-henry",
   "metadata": {},
   "outputs": [],
   "source": [
    "class Solution:\n",
    "    def findItinerary(self, tickets: List[List[str]]) -> List[str]:\n",
    "        graph = collections.defaultdict(list)\n",
    "        \n",
    "        # 그래프를 뒤집어서 구성\n",
    "        for a, b in sorted(tickets, reverse=True):\n",
    "            graph[a].append(b)\n",
    "            \n",
    "        route = []\n",
    "        def dfs(a):\n",
    "            # 마지막 값을 읽어 어휘 순 방문\n",
    "            while graph[a]:\n",
    "                dfs(graph[a].pop())\n",
    "                \n",
    "            route.append(a)\n",
    "            \n",
    "        dfs('JFK')\n",
    "        \n",
    "        # 다시 뒤집어 어휘 순 결과로\n",
    "        return route[::-1]\n",
    "        "
   ]
  },
  {
   "cell_type": "code",
   "execution_count": null,
   "id": "buried-recognition",
   "metadata": {},
   "outputs": [],
   "source": []
  },
  {
   "cell_type": "code",
   "execution_count": null,
   "id": "nearby-marks",
   "metadata": {},
   "outputs": [],
   "source": []
  },
  {
   "cell_type": "code",
   "execution_count": null,
   "id": "plastic-sixth",
   "metadata": {},
   "outputs": [],
   "source": []
  },
  {
   "cell_type": "code",
   "execution_count": null,
   "id": "australian-basics",
   "metadata": {},
   "outputs": [],
   "source": []
  },
  {
   "cell_type": "code",
   "execution_count": null,
   "id": "charitable-founder",
   "metadata": {},
   "outputs": [],
   "source": []
  },
  {
   "cell_type": "code",
   "execution_count": null,
   "id": "freelance-columbia",
   "metadata": {},
   "outputs": [],
   "source": []
  }
 ],
 "metadata": {
  "kernelspec": {
   "display_name": "Python 3",
   "language": "python",
   "name": "python3"
  },
  "language_info": {
   "codemirror_mode": {
    "name": "ipython",
    "version": 3
   },
   "file_extension": ".py",
   "mimetype": "text/x-python",
   "name": "python",
   "nbconvert_exporter": "python",
   "pygments_lexer": "ipython3",
   "version": "3.7.9"
  }
 },
 "nbformat": 4,
 "nbformat_minor": 5
}
