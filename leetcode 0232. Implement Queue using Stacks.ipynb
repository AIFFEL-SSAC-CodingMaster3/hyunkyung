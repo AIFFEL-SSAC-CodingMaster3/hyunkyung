{
 "cells": [
  {
   "cell_type": "markdown",
   "metadata": {},
   "source": [
    "# 스택을 이용한 큐 구현\n",
    "---\n",
    "큐를 이용해 다음 연산을 지원하는 스택을 구현하라\n",
    "\n",
    "* push(x) : 요소 x를 큐 마지막에 삽입한다.\n",
    "\n",
    "* pop() : 큐 첫번째 요소를 삭제한다.\n",
    "\n",
    "* peek() : 큐의 첫 번째 요소를 가져온다.\n",
    "\n",
    "* empty() : 큐가 비어있는지 여부를 리턴한다.\n",
    "\n",
    "\n",
    "MyStack stack = new MyStack();  \n",
    "stack.push(1);  \n",
    "stack.push(2);   \n",
    "stack.peek();           // 1 리턴   \n",
    "stack.pop();           // 1 리턴   \n",
    "stack.empty();         // false 리턴   \n"
   ]
  },
  {
   "cell_type": "code",
   "execution_count": null,
   "metadata": {},
   "outputs": [],
   "source": [
    "class MyQueue:\n",
    "\n",
    "    def __init__(self):\n",
    "        \"\"\"\n",
    "        Initialize your data structure here.\n",
    "        \"\"\"\n",
    "        self.lst1 = []\n",
    "        self.lst2 = []\n",
    "\n",
    "        \n",
    "    def push(self, x: int) -> None:\n",
    "        \"\"\"\n",
    "        Push element x onto stack.\n",
    "        \"\"\"\n",
    "        self.lst1.append(x)\n",
    "\n",
    "        \n",
    "    def pop(self) -> int:\n",
    "        \"\"\"\n",
    "        Removes the element on top of the stack and returns that element.\n",
    "        \"\"\"\n",
    "        self.peek()\n",
    "        return self.lst2.pop()          \n",
    "\n",
    "        \n",
    "    def peek(self) -> int:\n",
    "        \"\"\"\n",
    "        Get the top element.\n",
    "        \"\"\"\n",
    "        if not self.lst2:\n",
    "            while self.lst1:\n",
    "                self.lst2.append(self.input.pop())\n",
    "        return self.lst2[-1]\n",
    "\n",
    "        \n",
    "    def empty(self) -> bool:\n",
    "        \"\"\"\n",
    "        Returns whether the stack is empty.\n",
    "        \"\"\"\n",
    "        return self.lst1 == [], self.lst2 == []"
   ]
  },
  {
   "cell_type": "code",
   "execution_count": null,
   "metadata": {},
   "outputs": [],
   "source": []
  },
  {
   "cell_type": "code",
   "execution_count": null,
   "metadata": {},
   "outputs": [],
   "source": []
  },
  {
   "cell_type": "code",
   "execution_count": null,
   "metadata": {},
   "outputs": [],
   "source": []
  },
  {
   "cell_type": "code",
   "execution_count": null,
   "metadata": {},
   "outputs": [],
   "source": []
  },
  {
   "cell_type": "code",
   "execution_count": null,
   "metadata": {},
   "outputs": [],
   "source": []
  },
  {
   "cell_type": "code",
   "execution_count": null,
   "metadata": {},
   "outputs": [],
   "source": []
  },
  {
   "cell_type": "code",
   "execution_count": null,
   "metadata": {},
   "outputs": [],
   "source": []
  }
 ],
 "metadata": {
  "kernelspec": {
   "display_name": "Python 3",
   "language": "python",
   "name": "python3"
  },
  "language_info": {
   "codemirror_mode": {
    "name": "ipython",
    "version": 3
   },
   "file_extension": ".py",
   "mimetype": "text/x-python",
   "name": "python",
   "nbconvert_exporter": "python",
   "pygments_lexer": "ipython3",
   "version": "3.7.9"
  }
 },
 "nbformat": 4,
 "nbformat_minor": 4
}
