{
 "cells": [
  {
   "cell_type": "markdown",
   "id": "processed-memorabilia",
   "metadata": {},
   "source": [
    "## 이진 탐색 트리가 주어졌을 때 L 이상 R 이하의 값을 지닌 노드의 합을 구하라.\n",
    "\n",
    "입력  \n",
    "root = [10, 5, 15, 3, 7, null, 18], L = 7, R = 15\n",
    "\n",
    "출력  \n",
    "32\n",
    "\n",
    "설명  \n",
    "7 이상 15 이하인 또 다른 노드는 10이 있으며 따라서 결과는 7 + 10 + 15 = 32"
   ]
  },
  {
   "cell_type": "code",
   "execution_count": null,
   "id": "baking-nashville",
   "metadata": {},
   "outputs": [],
   "source": [
    "# Definition for a binary tree node.\n",
    "class TreeNode:\n",
    "    def __init__(self, val=0, left=None, right=None):\n",
    "        self.val = val\n",
    "        self.left = left\n",
    "        self.right = right\n",
    "class Solution:\n",
    "    def rangeSumBST(self, root: TreeNode, low: int, high: int) -> int:\n",
    "        def dfs(node: TreeNode):\n",
    "            if not node:\n",
    "                return 0\n",
    "        \n",
    "            if node.val < L:\n",
    "                return dfs(node.right)\n",
    "            elif node.val > R:\n",
    "                return dfs(node.left)\n",
    "            return node.val + dfs(node.left) + dfs(node.right)\n",
    "    \n",
    "         return dfs(root)"
   ]
  }
 ],
 "metadata": {
  "kernelspec": {
   "display_name": "Python 3",
   "language": "python",
   "name": "python3"
  },
  "language_info": {
   "codemirror_mode": {
    "name": "ipython",
    "version": 3
   },
   "file_extension": ".py",
   "mimetype": "text/x-python",
   "name": "python",
   "nbconvert_exporter": "python",
   "pygments_lexer": "ipython3",
   "version": "3.7.9"
  }
 },
 "nbformat": 4,
 "nbformat_minor": 5
}
