{
 "cells": [
  {
   "cell_type": "markdown",
   "id": "proof-latex",
   "metadata": {},
   "source": [
    "## 유효한 애너그램\n",
    "\n",
    "Input: s = \"anagram\", t = \"nagaram\"   \n",
    "Output: true   \n",
    "\n",
    "Input: s = \"rat\", t = \"car\"   \n",
    "Output: false   "
   ]
  },
  {
   "cell_type": "code",
   "execution_count": null,
   "id": "important-disaster",
   "metadata": {},
   "outputs": [],
   "source": [
    "class Solution:\n",
    "    def isAnagram(self, s: str, t: str) -> bool:\n",
    "        return sorted(s) == sorted(t)"
   ]
  }
 ],
 "metadata": {
  "kernelspec": {
   "display_name": "Python 3",
   "language": "python",
   "name": "python3"
  },
  "language_info": {
   "codemirror_mode": {
    "name": "ipython",
    "version": 3
   },
   "file_extension": ".py",
   "mimetype": "text/x-python",
   "name": "python",
   "nbconvert_exporter": "python",
   "pygments_lexer": "ipython3",
   "version": "3.7.9"
  }
 },
 "nbformat": 4,
 "nbformat_minor": 5
}
