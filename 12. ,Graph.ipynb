{
 "cells": [
  {
   "cell_type": "markdown",
   "id": "ordered-crawford",
   "metadata": {},
   "source": [
    "# 1. DFS ( 깊이 우선 탐색)\n",
    "\n",
    "* DFS는 일반적으로 스택으로 구현\n",
    "* 재귀를 이용하면 더 간단 (재귀 구현이 더 선호되는 편)"
   ]
  },
  {
   "cell_type": "markdown",
   "id": "strategic-federal",
   "metadata": {},
   "source": [
    "### (1) 재귀 구조로 구현\n",
    "\n",
    "DFS(G, v)     \n",
    "    label v as discoverd     \n",
    "    for all directed edges from v to w that are in G.adjacentEdges(v) do      \n",
    "        if vertex w is not labeled as discovered then     \n",
    "            recursively call DFS(G, w)      "
   ]
  },
  {
   "cell_type": "code",
   "execution_count": 1,
   "id": "thick-donor",
   "metadata": {},
   "outputs": [],
   "source": [
    "def recursive_dfs(v, discovered=[]):\n",
    "    discovered.append(v)\n",
    "    for w in graph[v]:\n",
    "        if not w in discovered:\n",
    "            discovered = recursive_dfs(w, discovered)\n",
    "    return discovered"
   ]
  },
  {
   "cell_type": "markdown",
   "id": "manufactured-newcastle",
   "metadata": {},
   "source": [
    "### (2) 스택을 이용한 반복 구조로 구현\n",
    "\n",
    "DFS-iterative(G,v)  \n",
    "    let S be a stack    \n",
    "    S.push(v)   \n",
    "    while S is not empty do   \n",
    "        v = S.pop()   \n",
    "        if v is not labeled as discovered then   \n",
    "            label v as discovered   \n",
    "            for all edges from v to w in G.adjacentEdges(v) do   \n",
    "                S.push(w)   "
   ]
  },
  {
   "cell_type": "code",
   "execution_count": 2,
   "id": "forty-selling",
   "metadata": {},
   "outputs": [],
   "source": [
    "def iterative_dfs(start_v):\n",
    "    discovered = []\n",
    "    stack = [start_v]\n",
    "    while stack:\n",
    "        v = stack.pop()\n",
    "        if v not in discovered:\n",
    "            discovered.append(v)\n",
    "            for w in graph[v]:\n",
    "                stack.append(w)\n",
    "    return discovered\n"
   ]
  },
  {
   "cell_type": "markdown",
   "id": "front-wallpaper",
   "metadata": {},
   "source": [
    "# 2. BFS (너비 우선 탐색)\n",
    "\n",
    "* 최단 경로를 찾는 다익스트라 알고리즘에 유용"
   ]
  },
  {
   "cell_type": "markdown",
   "id": "statewide-acting",
   "metadata": {},
   "source": [
    "### (1) 큐를 이용한 반복 구조로 구현\n",
    "\n",
    "BFS(G, start_v)      \n",
    "    let Q be a queue       \n",
    "    label start_v as discovered    \n",
    "    Q.enqueue(start_v)    \n",
    "    while Q is not empty do    \n",
    "        v := Q.dequeue()      \n",
    "        if v is the goal then        \n",
    "            return v       \n",
    "        for all edges from v to w in G.adjacentEdges(v) do    \n",
    "            if w is not labeled as discovered then   \n",
    "                label w as discovered    \n",
    "                w.paraent := v     \n",
    "                Q.enqueue(w)       "
   ]
  },
  {
   "cell_type": "code",
   "execution_count": 4,
   "id": "indonesian-forwarding",
   "metadata": {},
   "outputs": [],
   "source": [
    "def iterative_bfs(start_v):\n",
    "    discovered = [start_v]\n",
    "    queue = [start_v]\n",
    "    while queue:\n",
    "        v = queue.pop(0)\n",
    "        for w in graph[v]:\n",
    "            if w not in discovered:\n",
    "                discovered.append(w)\n",
    "                queue.append(w)\n",
    "    return discovered\n",
    "    "
   ]
  },
  {
   "cell_type": "markdown",
   "id": "conventional-cleveland",
   "metadata": {},
   "source": [
    "### (2) 재귀 구현 불가"
   ]
  },
  {
   "cell_type": "markdown",
   "id": "dense-arrival",
   "metadata": {},
   "source": [
    "# 3. 백트래킹\n",
    "\n",
    "* 해결책에 대한 후보를 구축해 나아가다 가능성이 없다고 판단되는 즉시 후보를 포기(백트랙 Backtrack)해 정답을 찾아가는 범용적인 알고리즘으로, 제약 충족 문제(Constraint Satisfaction Problems)에 특히 유용하다.  \n",
    "* "
   ]
  },
  {
   "cell_type": "code",
   "execution_count": null,
   "id": "internal-douglas",
   "metadata": {},
   "outputs": [],
   "source": []
  },
  {
   "cell_type": "code",
   "execution_count": null,
   "id": "fiscal-province",
   "metadata": {},
   "outputs": [],
   "source": []
  },
  {
   "cell_type": "code",
   "execution_count": null,
   "id": "norman-recipient",
   "metadata": {},
   "outputs": [],
   "source": []
  },
  {
   "cell_type": "code",
   "execution_count": null,
   "id": "disciplinary-savannah",
   "metadata": {},
   "outputs": [],
   "source": []
  },
  {
   "cell_type": "code",
   "execution_count": null,
   "id": "first-canal",
   "metadata": {},
   "outputs": [],
   "source": []
  },
  {
   "cell_type": "code",
   "execution_count": null,
   "id": "handy-gossip",
   "metadata": {},
   "outputs": [],
   "source": []
  },
  {
   "cell_type": "code",
   "execution_count": null,
   "id": "foster-cabinet",
   "metadata": {},
   "outputs": [],
   "source": []
  },
  {
   "cell_type": "code",
   "execution_count": null,
   "id": "injured-court",
   "metadata": {},
   "outputs": [],
   "source": []
  }
 ],
 "metadata": {
  "kernelspec": {
   "display_name": "Python 3",
   "language": "python",
   "name": "python3"
  },
  "language_info": {
   "codemirror_mode": {
    "name": "ipython",
    "version": 3
   },
   "file_extension": ".py",
   "mimetype": "text/x-python",
   "name": "python",
   "nbconvert_exporter": "python",
   "pygments_lexer": "ipython3",
   "version": "3.7.9"
  }
 },
 "nbformat": 4,
 "nbformat_minor": 5
}
