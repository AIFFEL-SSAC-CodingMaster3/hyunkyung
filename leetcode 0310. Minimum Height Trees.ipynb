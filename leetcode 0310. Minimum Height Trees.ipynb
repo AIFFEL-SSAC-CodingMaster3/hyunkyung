{
 "cells": [
  {
   "cell_type": "markdown",
   "id": "excessive-issue",
   "metadata": {},
   "source": [
    "## 최소 높이 트리\n",
    "\n",
    "노드 개수와 무방향 그래프를 입력받아 트리가 최소 높이가 되는 루트의 목록을 리턴하라.\n",
    "\n",
    "Input: n = 4, edges = [[1,0],[1,2],[1,3]]   \n",
    "Output: [1]   \n",
    "Explanation: As shown, the height of the tree is 1 when the root is the node with label 1 which is the only MHT.   \n",
    "\n",
    "Input: n = 6, edges = [[3,0],[3,1],[3,2],[3,4],[5,4]]   \n",
    "Output: [3,4]   "
   ]
  },
  {
   "cell_type": "code",
   "execution_count": null,
   "id": "other-charger",
   "metadata": {},
   "outputs": [],
   "source": [
    "class Solution:\n",
    "    def findMinHeightTrees(self, n: int, edges: List[List[int]]) -> List[int]:\n",
    "        inf n <= 1:\n",
    "            return [0]\n",
    "        \n",
    "        # 양방향 그래프 구성\n",
    "        graph = collections.defaultdict(list)\n",
    "        for i, j in edges:\n",
    "            graph[i].append(j)\n",
    "            graph[j].append(i)\n",
    "            \n",
    "        # 첫번째 리프 노드 추가\n",
    "        leaves = []\n",
    "        for i in range(n+1):\n",
    "            if len(graph[i]) == 1:\n",
    "                leaves.append(i)\n",
    "                \n",
    "        # 루트 노드만 남을 때까지 반복 제거\n",
    "        while n > 2:\n",
    "            n -= len(leaves)\n",
    "            new_leaves = []\n",
    "            for leaf in leaves:\n",
    "                neighbor = graph[leaf].pop()\n",
    "                graph[neighbor].remove(leaf)\n",
    "                \n",
    "                if len(graph[neighbor]) == 1:\n",
    "                    new_leaves.append(neighbor)\n",
    "                    \n",
    "            leaves = new_leaves\n",
    "            \n",
    "        return leaves"
   ]
  },
  {
   "cell_type": "code",
   "execution_count": null,
   "id": "activated-fence",
   "metadata": {},
   "outputs": [],
   "source": []
  }
 ],
 "metadata": {
  "kernelspec": {
   "display_name": "Python 3",
   "language": "python",
   "name": "python3"
  },
  "language_info": {
   "codemirror_mode": {
    "name": "ipython",
    "version": 3
   },
   "file_extension": ".py",
   "mimetype": "text/x-python",
   "name": "python",
   "nbconvert_exporter": "python",
   "pygments_lexer": "ipython3",
   "version": "3.7.9"
  }
 },
 "nbformat": 4,
 "nbformat_minor": 5
}
