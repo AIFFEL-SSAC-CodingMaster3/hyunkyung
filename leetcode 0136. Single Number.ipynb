{
 "cells": [
  {
   "cell_type": "markdown",
   "id": "general-classics",
   "metadata": {},
   "source": [
    "# 싱글 넘버\n",
    "\n",
    "### 딱 하나를 제외하고 모든 엘리먼트는 2개씩 있다. 1개인 엘리먼트를 찾아라.\n",
    "\n",
    "Input: nums = [2,2,1]   \n",
    "Output: 1   \n",
    "\n",
    "Input: nums = [4,1,2,1,2]   \n",
    "Output: 4   \n",
    "\n",
    "\n",
    "Input: nums = [1]   \n",
    "Output: 1   "
   ]
  },
  {
   "cell_type": "markdown",
   "id": "appropriate-going",
   "metadata": {},
   "source": [
    "### XOR 풀이\n",
    "\n",
    "XOR은 입력값이 서로 다르면 True, 서로 동일할 경우 False가 되는 논리 게이트 연산자. "
   ]
  },
  {
   "cell_type": "code",
   "execution_count": null,
   "id": "labeled-diabetes",
   "metadata": {},
   "outputs": [],
   "source": [
    "class Solution:\n",
    "    def singleNumber(self, nums: List[int]) -> int:\n",
    "        result = 0    # 두번 등장한 엘리먼트는 0으로 초기화, 한번 등장하는 엘리먼트는 값을 보존\n",
    "        for num in nums:\n",
    "            result ^= num   # result와 num의 입력값 서로 다르면 result를 num으로 저장.\n",
    "            \n",
    "        return result "
   ]
  }
 ],
 "metadata": {
  "kernelspec": {
   "display_name": "Python 3",
   "language": "python",
   "name": "python3"
  },
  "language_info": {
   "codemirror_mode": {
    "name": "ipython",
    "version": 3
   },
   "file_extension": ".py",
   "mimetype": "text/x-python",
   "name": "python",
   "nbconvert_exporter": "python",
   "pygments_lexer": "ipython3",
   "version": "3.7.9"
  }
 },
 "nbformat": 4,
 "nbformat_minor": 5
}
