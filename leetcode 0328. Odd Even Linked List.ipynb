{
 "cells": [
  {
   "cell_type": "markdown",
   "metadata": {},
   "source": [
    "#### 홀짝 연결 리스트\n",
    "\n",
    "연결 리스트를 홀수 노드 다음에 짝수 노드가 오도록 재구성하라. 공간 복잡도 O(1), 시간 복잡도 O(n)에 풀이하라"
   ]
  },
  {
   "cell_type": "code",
   "execution_count": 1,
   "metadata": {},
   "outputs": [],
   "source": [
    "class ListNode:\n",
    "    def __init__(self, val=0, next=None):\n",
    "        self.val = val\n",
    "        self.next = next\n",
    "class Solution:\n",
    "    def oddEvenList(self, head: ListNode) -> ListNode:\n",
    "        #예외처리\n",
    "        if head is None:\n",
    "            return None\n",
    "        \n",
    "        odd = head\n",
    "        even = head.next\n",
    "        even_head = head.next\n",
    "        \n",
    "        # 반복하면서 홀짝 노드 처리\n",
    "        while even and even.next:\n",
    "            odd.next, even.next = odd.next.next, even.next.next\n",
    "            odd, even = odd.next, even.next\n",
    "            \n",
    "        # 홀수 노드의 마지막을 짝수 헤드로 연결\n",
    "        odd.next = even_head\n",
    "        return head"
   ]
  },
  {
   "cell_type": "code",
   "execution_count": null,
   "metadata": {},
   "outputs": [],
   "source": []
  }
 ],
 "metadata": {
  "kernelspec": {
   "display_name": "Python 3",
   "language": "python",
   "name": "python3"
  },
  "language_info": {
   "codemirror_mode": {
    "name": "ipython",
    "version": 3
   },
   "file_extension": ".py",
   "mimetype": "text/x-python",
   "name": "python",
   "nbconvert_exporter": "python",
   "pygments_lexer": "ipython3",
   "version": "3.7.9"
  }
 },
 "nbformat": 4,
 "nbformat_minor": 4
}
