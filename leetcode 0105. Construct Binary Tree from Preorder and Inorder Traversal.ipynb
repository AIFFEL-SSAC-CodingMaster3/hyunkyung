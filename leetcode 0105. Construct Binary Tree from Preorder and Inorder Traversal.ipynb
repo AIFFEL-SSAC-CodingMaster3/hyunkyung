{
 "cells": [
  {
   "cell_type": "markdown",
   "id": "twenty-diameter",
   "metadata": {},
   "source": [
    "## 트리의 전위(pre-order), 중위(In-order) 순회 결과를 입력값으로 받아 이진 트리를 구축하라.\n",
    "\n",
    "Input: preorder = [3,9,20,15,7], inorder = [9,3,15,20,7]   \n",
    "Output: [3,9,20,null,null,15,7]   \n",
    "\n",
    "Input: preorder = [-1], inorder = [-1]   \n",
    "Output: [-1]  "
   ]
  },
  {
   "cell_type": "code",
   "execution_count": 2,
   "id": "stuffed-virgin",
   "metadata": {},
   "outputs": [],
   "source": [
    "from typing import List\n",
    "class TreeNode:\n",
    "    def __init__(self, val=0, left=None, right=None):\n",
    "        self.val = val\n",
    "        self.left = left\n",
    "        self.right = right\n",
    "        \n",
    "class Solution:\n",
    "    def buildTree(self, preorder: List[int], inorder: List[int]) -> TreeNode:\n",
    "        if inorder:\n",
    "            # 전위 순회 결과는 중위 순회 분할 인덱스\n",
    "            index = inorder.index(preorder.pop(0)) #전위 0번째 인덱스 값을 중위 순회에서 찾고 index 변수로 할당\n",
    "            \n",
    "            # 중위 순회 결과 분할 정복\n",
    "            node = TreeNode(inorder[index]) # index에 해당하는 값을 root로 지정\n",
    "            node.left = self.buildTree(preorder, inorder[0:index]) #\n",
    "            node.right = self.buildTree(preorder, inorder[index+1:])\n",
    "            \n",
    "            return node"
   ]
  },
  {
   "cell_type": "code",
   "execution_count": null,
   "id": "binary-screening",
   "metadata": {},
   "outputs": [],
   "source": []
  }
 ],
 "metadata": {
  "kernelspec": {
   "display_name": "Python 3",
   "language": "python",
   "name": "python3"
  },
  "language_info": {
   "codemirror_mode": {
    "name": "ipython",
    "version": 3
   },
   "file_extension": ".py",
   "mimetype": "text/x-python",
   "name": "python",
   "nbconvert_exporter": "python",
   "pygments_lexer": "ipython3",
   "version": "3.7.9"
  }
 },
 "nbformat": 4,
 "nbformat_minor": 5
}
