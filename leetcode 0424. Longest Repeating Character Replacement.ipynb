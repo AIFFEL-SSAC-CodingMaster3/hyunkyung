{
 "cells": [
  {
   "cell_type": "markdown",
   "id": "informative-requirement",
   "metadata": {},
   "source": [
    "# 가장 긴 반복 문자 대체\n",
    "\n",
    "대문자로 구성된 문자열 s가 주어졌을 때 k번만큼의 변경으로 만들 수 있는, 연속으로 반복된 문자열의 가장 긴 길이를 출력하라.\n",
    "\n",
    "Input: s = \"ABAB\", k = 2     \n",
    "Output: 4   \n",
    "Explanation: Replace the two 'A's with two 'B's or vice versa.    \n",
    "\n",
    "Input: s = \"AABABBA\", k = 1    \n",
    "Output: 4        \n",
    "Explanation: Replace the one 'A' in the middle with 'B' and form \"AABBBBA\".   \n",
    "The substring \"BBBB\" has the longest repeating letters, which is 4.    "
   ]
  },
  {
   "cell_type": "code",
   "execution_count": null,
   "id": "foreign-precipitation",
   "metadata": {},
   "outputs": [],
   "source": [
    "class Solution:\n",
    "    def characterReplacement(self, s: str, k: int) -> int:\n",
    "        left = right = 0      # 왼쪽, 오른쪽 포인터 위치 초기화\n",
    "        count = collections.Counter()\n",
    "        for right in range(1, len(s)+1):     # 오른쪽 포인터는 우측으로 한칸씩 이동\n",
    "            counts[s[right-1]] += 1\n",
    "            \n",
    "            # 가장 흔하게 등장하는 문자 개수\n",
    "            max_char_n = counts.most_common(1)[0][1]  \n",
    "            \n",
    "            # k 초과시 왼쪽 포인터 이동\n",
    "            if right - left - max_char_n > k:\n",
    "                counts[s[left]] -= 1\n",
    "                left += 1\n",
    "            \n",
    "        return right - left"
   ]
  },
  {
   "cell_type": "code",
   "execution_count": null,
   "id": "unlikely-stadium",
   "metadata": {},
   "outputs": [],
   "source": []
  }
 ],
 "metadata": {
  "kernelspec": {
   "display_name": "aiffel",
   "language": "python",
   "name": "aiffel"
  },
  "language_info": {
   "codemirror_mode": {
    "name": "ipython",
    "version": 3
   },
   "file_extension": ".py",
   "mimetype": "text/x-python",
   "name": "python",
   "nbconvert_exporter": "python",
   "pygments_lexer": "ipython3",
   "version": "3.7.9"
  }
 },
 "nbformat": 4,
 "nbformat_minor": 5
}
