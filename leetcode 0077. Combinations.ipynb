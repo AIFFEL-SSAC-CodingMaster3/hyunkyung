{
 "cells": [
  {
   "cell_type": "markdown",
   "id": "guided-potter",
   "metadata": {},
   "source": [
    "## 전체 수 n을 입력받아 k개의 조합 Combination 을 리턴하라.\n",
    "\n",
    "#### 입력 : n = 4, k = 2\n",
    "\n",
    "#### 출력 : [ [2,4], [3,4], [2,3], [1,2], [1,3], [1,4] ]\n"
   ]
  },
  {
   "cell_type": "code",
   "execution_count": null,
   "id": "expired-pound",
   "metadata": {},
   "outputs": [],
   "source": [
    "def combine(self, n:int, k: int) -> List[List[int]]:\n",
    "    results = []\n",
    "    \n",
    "    def dfs(elements, start:int, k:int):\n",
    "        if k ==0:\n",
    "            results.append(elements[:])\n",
    "            \n",
    "            \n",
    "        for i in range(start, n+1):\n",
    "            elements.append(i)\n",
    "            dfs(elements, i+1, k-1)\n",
    "            elements.pop()\n",
    "        \n",
    "        dfs([], 1, k)\n",
    "        \n",
    "        return results"
   ]
  },
  {
   "cell_type": "code",
   "execution_count": null,
   "id": "serial-testament",
   "metadata": {},
   "outputs": [],
   "source": []
  },
  {
   "cell_type": "code",
   "execution_count": null,
   "id": "swiss-police",
   "metadata": {},
   "outputs": [],
   "source": []
  },
  {
   "cell_type": "code",
   "execution_count": null,
   "id": "prescribed-hacker",
   "metadata": {},
   "outputs": [],
   "source": []
  },
  {
   "cell_type": "code",
   "execution_count": null,
   "id": "essential-correction",
   "metadata": {},
   "outputs": [],
   "source": []
  },
  {
   "cell_type": "code",
   "execution_count": null,
   "id": "qualified-referral",
   "metadata": {},
   "outputs": [],
   "source": []
  },
  {
   "cell_type": "code",
   "execution_count": null,
   "id": "heard-founder",
   "metadata": {},
   "outputs": [],
   "source": []
  },
  {
   "cell_type": "code",
   "execution_count": null,
   "id": "fantastic-scout",
   "metadata": {},
   "outputs": [],
   "source": []
  }
 ],
 "metadata": {
  "kernelspec": {
   "display_name": "Python 3",
   "language": "python",
   "name": "python3"
  },
  "language_info": {
   "codemirror_mode": {
    "name": "ipython",
    "version": 3
   },
   "file_extension": ".py",
   "mimetype": "text/x-python",
   "name": "python",
   "nbconvert_exporter": "python",
   "pygments_lexer": "ipython3",
   "version": "3.7.9"
  }
 },
 "nbformat": 4,
 "nbformat_minor": 5
}
