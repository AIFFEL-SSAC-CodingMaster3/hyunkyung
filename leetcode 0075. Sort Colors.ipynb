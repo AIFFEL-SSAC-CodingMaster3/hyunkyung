{
 "cells": [
  {
   "cell_type": "markdown",
   "id": "proved-genius",
   "metadata": {},
   "source": [
    "## 빨간색을 0, 흰색을 1, 파란색을 2라 할 때 순서대로 인접하는 제자리 정렬을 수행하라\n",
    "\n",
    "Input: nums = [2,0,2,1,1,0]   \n",
    "Output: [0,0,1,1,2,2]   \n",
    "\n",
    "Input: nums = [2,0,1]   \n",
    "Output: [0,1,2]   \n",
    "    \n",
    "Input: nums = [0]  \n",
    "Output: [0]   "
   ]
  },
  {
   "cell_type": "code",
   "execution_count": null,
   "id": "happy-screening",
   "metadata": {},
   "outputs": [],
   "source": [
    "class Solution:\n",
    "    def sortColors(self, nums: List[int]) -> None:\n",
    "        \"\"\"\n",
    "        Do not return anything, modify nums in-place instead.\n",
    "        \"\"\"\n",
    "        "
   ]
  }
 ],
 "metadata": {
  "kernelspec": {
   "display_name": "Python 3",
   "language": "python",
   "name": "python3"
  },
  "language_info": {
   "codemirror_mode": {
    "name": "ipython",
    "version": 3
   },
   "file_extension": ".py",
   "mimetype": "text/x-python",
   "name": "python",
   "nbconvert_exporter": "python",
   "pygments_lexer": "ipython3",
   "version": "3.7.9"
  }
 },
 "nbformat": 4,
 "nbformat_minor": 5
}
