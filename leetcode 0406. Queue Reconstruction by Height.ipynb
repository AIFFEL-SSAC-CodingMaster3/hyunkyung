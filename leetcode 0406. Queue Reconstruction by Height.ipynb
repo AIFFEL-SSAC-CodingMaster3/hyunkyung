{
 "cells": [
  {
   "cell_type": "markdown",
   "id": "robust-profit",
   "metadata": {},
   "source": [
    "# 키에 따른 대기열 재구성\n",
    "\n",
    "\n",
    "### 여러 명의 사람들이 줄을 서 있다. 각각의 사람은 (h, k) 의 두 정수 쌍을 갖는데, h는 그 사람의 키, k는 앞에 줄 서 있는 사람들 중 자신의 키 이상인 사람들의 수를 뜻한다. 이 값이 올바르도록 줄을 재정렬하는 알고리즘을 작성하라\n",
    "\n",
    "* Input: people = [[7,0],[4,4],[7,1],[5,0],[6,1],[5,2]]   \n",
    "* Output: [[5,0],[7,0],[5,2],[6,1],[4,4],[7,1]]   \n",
    "\n",
    "키가 5인 사람이 가장 먼저 섰고, 앞에는 아무도 없다. 7ㅇ니 사람이 뒤따르고, 그보다 키가 더 큰 사람은 아무도 없다. 5인 사람이 섰으며, 앞에 5,7 두 명이 자신보다 크거나 같다. 6인 사람의 앞에는 자신보다 큰 키 7인 사람 한 명이 있다. 4인 사람 앞에는 5, 7, 5, 6 네 명이 있다. 마지막으로 7인 사람 앞에 자신보다 크거나 같은 이는 키가 7인 사람 한 명이다."
   ]
  },
  {
   "cell_type": "markdown",
   "id": "postal-yahoo",
   "metadata": {},
   "source": [
    "Input: people = [[7,0],[4,4],[7,1],[5,0],[6,1],[5,2]]   \n",
    "\n",
    "* k 기준으로 정렬   \n",
    "[[7, 0], [5, 0], [7, 1], [6, 1], [5, 2], [4, 4]]     \n",
    "\n",
    "* 키 역순 정렬   \n",
    "[[7, 0], [7, 1], [6, 1], [5, 0], [5, 2], [4, 4]]   \n"
   ]
  },
  {
   "cell_type": "code",
   "execution_count": null,
   "id": "terminal-rental",
   "metadata": {},
   "outputs": [],
   "source": [
    "class Solution:\n",
    "    def reconstructQueue(self, people: List[List[int]]) -> List[List[int]]:\n",
    "        people.sort(key = lambda x : x[1])        # k 기준으로 정렬\n",
    "        people.sort(key = lambda x : -x[0])       # 키 역순 정렬\n",
    "        \n",
    "        result = []\n",
    "        for person in people:\n",
    "            result.insert(person[1], person)    # k를 기준으로 person 삽입\n",
    "        \n",
    "        return result"
   ]
  },
  {
   "cell_type": "markdown",
   "id": "unlike-treaty",
   "metadata": {},
   "source": [
    "책에 있는 풀이\n",
    "\n",
    "Input: people = [[7,0],[4,4],[7,1],[5,0],[6,1],[5,2]]    \n",
    "\n",
    "[(-7, 0)]   \n",
    "[(-7, 0), (-4, 4)]   \n",
    "[(-7, 0), (-4, 4), (-7, 1)]   \n",
    "[(-7, 0), (-5, 0), (-7, 1), (-4, 4)]    \n",
    "[(-7, 0), (-6, 1), (-7, 1), (-4, 4), (-5, 0)]   \n",
    "[(-7, 0), (-6, 1), (-7, 1), (-4, 4), (-5, 0), (-5, 2)]     \n",
    "\n",
    "heap = [(-7, 0), (-6, 1), (-7, 1), (-4, 4), (-5, 0), (-5, 2)]    \n",
    "\n",
    "Output : [[5, 0], [7, 0], [5, 2], [6, 1], [4, 4], [7, 1]]\n",
    "\n"
   ]
  },
  {
   "cell_type": "code",
   "execution_count": null,
   "id": "failing-boost",
   "metadata": {},
   "outputs": [],
   "source": [
    "class Solution:\n",
    "    def reconstructQueue(self, people: List[List[int]]) -> List[List[int]]:\n",
    "        heap = []\n",
    "        \n",
    "        # 키 역순, 인덱스 삽입\n",
    "        for person in people:\n",
    "            heapq.heappush(heap, (-person[0], person[1]))\n",
    "            \n",
    "        result = []\n",
    "        # 키 역순, 인덱스 추출\n",
    "        while heap:\n",
    "            person = heapq.heappop(heap)\n",
    "            result.insert(person[1], [-person[0], person[1]])\n",
    "        return result"
   ]
  },
  {
   "cell_type": "markdown",
   "id": "sixth-alias",
   "metadata": {},
   "source": [
    "leetcode 다른 풀이"
   ]
  },
  {
   "cell_type": "code",
   "execution_count": null,
   "id": "engaging-broadcasting",
   "metadata": {},
   "outputs": [],
   "source": [
    "class Solution:\n",
    "    def reconstructQueue(self, people: List[List[int]]) -> List[List[int]]:\n",
    "        \n",
    "        people = sorted(people, key = lambda x: (-x[0], x[1]))\n",
    "        res = []\n",
    "        for (h, k) in people:\n",
    "            res.insert(k, [h, k])\n",
    "        return res"
   ]
  },
  {
   "cell_type": "code",
   "execution_count": null,
   "id": "caring-institute",
   "metadata": {},
   "outputs": [],
   "source": [
    "class Solution:\n",
    "    def reconstructQueue(self, people: List[List[int]]) -> List[List[int]]:\n",
    "        queue = []\n",
    "        for h, k in sorted(people, key=lambda x: (-x[0], x[1])):\n",
    "            queue.insert(k, [h, k])\n",
    "        return queue"
   ]
  },
  {
   "cell_type": "markdown",
   "id": "sexual-region",
   "metadata": {},
   "source": [
    "sort 함수는 리스트명.sort( ) 형식으로 \"리스트형의 메소드\"​​이며 리스트 원본값을 직접 수정합니다.\n",
    "\n",
    "sorted 함수는 sorted( 리스트명 ) 형식으로 \"내장 함수\"이며 리스트 원본 값은 그대로이고 정렬 값을 반환합니다."
   ]
  },
  {
   "cell_type": "code",
   "execution_count": null,
   "id": "talented-stability",
   "metadata": {},
   "outputs": [],
   "source": []
  }
 ],
 "metadata": {
  "kernelspec": {
   "display_name": "Python 3",
   "language": "python",
   "name": "python3"
  },
  "language_info": {
   "codemirror_mode": {
    "name": "ipython",
    "version": 3
   },
   "file_extension": ".py",
   "mimetype": "text/x-python",
   "name": "python",
   "nbconvert_exporter": "python",
   "pygments_lexer": "ipython3",
   "version": "3.7.9"
  }
 },
 "nbformat": 4,
 "nbformat_minor": 5
}
