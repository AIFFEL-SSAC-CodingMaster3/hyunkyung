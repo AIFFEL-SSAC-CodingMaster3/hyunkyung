{
 "cells": [
  {
   "cell_type": "markdown",
   "id": "disciplinary-separation",
   "metadata": {},
   "source": [
    "입력값이 UTF-8 문자열이 맞는지 검증하라."
   ]
  },
  {
   "cell_type": "code",
   "execution_count": null,
   "id": "thermal-flower",
   "metadata": {},
   "outputs": [],
   "source": [
    "class Solution:\n",
    "    def validUtf8(self, data: List[int]) -> bool:\n",
    "        def check(size):\n",
    "            for i in range(start + 1, start+size+1):\n",
    "                if i >= len(data) or (data[i] >> 6) != 0b10:\n",
    "                    return False\n",
    "                \n",
    "            return True\n",
    "        \n",
    "        start = 0\n",
    "        \n",
    "        while start < len(data):\n",
    "            # 첫 바이트 기준 총 문자 바이트 판별\n",
    "            first = data[start]\n",
    "            if (first >> 3) == 0b11110 and check(3):\n",
    "                start += 4\n",
    "            elif (first >> 4) == 0b1110 and check(2):\n",
    "                start += 3          \n",
    "            elif (first >> 5) == 0b110 and check(1):\n",
    "                start += 2\n",
    "            elif (first >> 7) == 0:\n",
    "                start += 1\n",
    "            else:\n",
    "                return False\n",
    "        return True"
   ]
  }
 ],
 "metadata": {
  "kernelspec": {
   "display_name": "Python 3",
   "language": "python",
   "name": "python3"
  },
  "language_info": {
   "codemirror_mode": {
    "name": "ipython",
    "version": 3
   },
   "file_extension": ".py",
   "mimetype": "text/x-python",
   "name": "python",
   "nbconvert_exporter": "python",
   "pygments_lexer": "ipython3",
   "version": "3.7.9"
  }
 },
 "nbformat": 4,
 "nbformat_minor": 5
}
