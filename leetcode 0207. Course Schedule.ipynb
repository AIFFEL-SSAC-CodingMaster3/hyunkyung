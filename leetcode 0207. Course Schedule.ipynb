{
 "cells": [
  {
   "cell_type": "markdown",
   "id": "threaded-china",
   "metadata": {},
   "source": [
    "## 코스 스케줄\n",
    "\n",
    "### 0을 완료하기 위해서는 1을 끝내야 한다는 것을 [0,1] 쌍으로 표현하는 n개의 코스가 있다. 코스 개수 n과 이 쌍들을 입력으로 받았을 때 모든 코스가 완료 가능한지 판별하라\n",
    "\n",
    "\n",
    "2, [[1,0]]\n",
    "   \n",
    "True\n",
    "\n",
    "\n",
    "2, [[1,0].[0,1]]\n",
    "\n",
    "False"
   ]
  },
  {
   "cell_type": "code",
   "execution_count": null,
   "id": "accurate-sudan",
   "metadata": {},
   "outputs": [],
   "source": [
    "class Solution:\n",
    "    def canFinish(self, numCourses: int, prerequisites: List[List[int]]) -> bool:\n",
    "        graph = collections.defaultdict(list)\n",
    "        \n",
    "        # 그래프 구성\n",
    "        for x, y in prerequisites:\n",
    "            graph[x].append(y)\n",
    "            \n",
    "        traced = set()\n",
    "        \n",
    "        def dfs(i):\n",
    "            # 순환구조이면 false\n",
    "            if i in traced:\n",
    "                return False\n",
    "            \n",
    "            traced.add(i)\n",
    "            \n",
    "            for y in graph[i]:\n",
    "                if not dfs(y):\n",
    "                    return False\n",
    "                \n",
    "            # 탐색 종료 후 순환 노드 삭제\n",
    "            traced.remove(i)\n",
    "            \n",
    "            return True\n",
    "        \n",
    "        # 순환구조 판별\n",
    "        for x in list(graph):\n",
    "            if not dfs(x):\n",
    "                return False\n",
    "            \n",
    "        return True"
   ]
  },
  {
   "cell_type": "code",
   "execution_count": null,
   "id": "radio-gospel",
   "metadata": {},
   "outputs": [],
   "source": []
  },
  {
   "cell_type": "code",
   "execution_count": null,
   "id": "progressive-lying",
   "metadata": {},
   "outputs": [],
   "source": []
  },
  {
   "cell_type": "code",
   "execution_count": null,
   "id": "naval-printer",
   "metadata": {},
   "outputs": [],
   "source": []
  }
 ],
 "metadata": {
  "kernelspec": {
   "display_name": "Python 3",
   "language": "python",
   "name": "python3"
  },
  "language_info": {
   "codemirror_mode": {
    "name": "ipython",
    "version": 3
   },
   "file_extension": ".py",
   "mimetype": "text/x-python",
   "name": "python",
   "nbconvert_exporter": "python",
   "pygments_lexer": "ipython3",
   "version": "3.7.9"
  }
 },
 "nbformat": 4,
 "nbformat_minor": 5
}
