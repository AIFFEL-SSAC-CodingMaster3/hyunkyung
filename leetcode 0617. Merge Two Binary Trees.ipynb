{
 "cells": [
  {
   "cell_type": "markdown",
   "id": "musical-toyota",
   "metadata": {},
   "source": [
    "### 두 이진 트리 병합\n",
    "\n",
    "#### 두 이진 트리를 병합하라. 중복 되는 노드는 값을 합산한다.\n",
    "\n",
    " 입력:   \n",
    "\n",
    "      트리 1                트리 2\n",
    "              \n",
    "        1                    2\n",
    "       / \\                  / \\   \n",
    "      3   2                1   3\n",
    "     /                      \\   \\\n",
    "    5                        4   7   \n",
    "    \n",
    "    \n",
    " 출력:\n",
    " \n",
    "     병합된 트리\n",
    "      \n",
    "        3\n",
    "       / \\\n",
    "      4   5\n",
    "     / \\   \\\n",
    "    5   4   7\n",
    "    \n",
    "    \n",
    "#### Input: root1 = [1,3,2,5], root2 = [2,1,3,null,4,null,7]\n",
    "#### Output: [3,4,5,5,4,null,7]    "
   ]
  },
  {
   "cell_type": "code",
   "execution_count": null,
   "id": "mature-dietary",
   "metadata": {},
   "outputs": [],
   "source": [
    "# 두 트리에 모두 값이 존재 하면 값 합치기 \n",
    "# 한쪽이라도 값이 없으면 그냥 값 추가 "
   ]
  },
  {
   "cell_type": "markdown",
   "id": "ruled-device",
   "metadata": {},
   "source": [
    "## 재귀호출\n",
    "#### Runtime: 88 ms"
   ]
  },
  {
   "cell_type": "code",
   "execution_count": 1,
   "id": "orange-picture",
   "metadata": {},
   "outputs": [],
   "source": [
    "# Definition for a binary tree node.\n",
    "\n",
    "class TreeNode:\n",
    "    def __init__(self, val=0, left=None, right=None):\n",
    "        self.val = val\n",
    "        self.left = left\n",
    "        self.right = right\n",
    "        \n",
    "class Solution:\n",
    "    def mergeTrees(self, t1: TreeNode, t2: TreeNode) -> TreeNode:\n",
    "        if t1 and t2:\n",
    "            node = TreeNode(t1.val + t2.val)\n",
    "            node.left = self.mergeTrees(t1.left, t2.left)\n",
    "            node.right = self.mergeTrees(t1.right, t2.right)\n",
    "            \n",
    "            return node\n",
    "        else:\n",
    "            return t1 or t2"
   ]
  },
  {
   "cell_type": "markdown",
   "id": "empirical-reporter",
   "metadata": {},
   "source": [
    "## 다른 풀이\n",
    "### Runtime: 64 ms"
   ]
  },
  {
   "cell_type": "code",
   "execution_count": null,
   "id": "successful-fishing",
   "metadata": {},
   "outputs": [],
   "source": [
    "class Solution:\n",
    "    def mergeTrees(self, root1: TreeNode, root2: TreeNode) -> TreeNode:\n",
    "        if root1 == None:\n",
    "            return root2\n",
    "        \n",
    "        if root2 == None:\n",
    "            return root1\n",
    "        \n",
    "        root1.val += root2.val\n",
    "        root1.left = self.mergeTrees(root1.left, root2.left)\n",
    "        root1.right = self.mergeTrees(root1.right, root2.right)\n",
    "        return root1"
   ]
  },
  {
   "cell_type": "code",
   "execution_count": null,
   "id": "maritime-strengthening",
   "metadata": {},
   "outputs": [],
   "source": [
    "class Solution:\n",
    "    def mergeTrees(self, t1: TreeNode, t2: TreeNode) -> TreeNode:\n",
    "        if t1 is None:\n",
    "            return t2\n",
    "        if t2 is None:\n",
    "            return t1\n",
    "        t1.val = t1.val + t2.val\n",
    "        t1.left = self.mergeTrees(t1.left, t2.left)\n",
    "        t1.right = self.mergeTrees(t1.right, t2.right)\n",
    "        return t1"
   ]
  },
  {
   "cell_type": "markdown",
   "id": "quiet-hebrew",
   "metadata": {},
   "source": [
    "## 반복호출"
   ]
  },
  {
   "cell_type": "code",
   "execution_count": null,
   "id": "athletic-reserve",
   "metadata": {},
   "outputs": [],
   "source": [
    "class Solution:\n",
    "    def mergeTrees(self, t1: TreeNode, t2: TreeNode) -> TreeNode:\n",
    "        if not t1 and not t2:\n",
    "            return None\n",
    "        if bool(t1) ^ bool(t2):          # XOR 연산. 둘 중 하나만 참일 때 만족\n",
    "            return t1 if t1 else t2\n",
    "        \n",
    "        queue = deque([(t1, t2)])\n",
    "        while queue:\n",
    "            tree1, tree2 = queue.popleft()\n",
    "            tree1.val += tree2.val\n",
    "            if not tree1.left and tree2.left:\n",
    "                tree1.left = tree2.left\n",
    "            elif tree1.left and tree2.left:\n",
    "                queue.append((tree1.left, tree2.left))\n",
    "            if not tree1.right and tree2.right:\n",
    "                tree1.right = tree2.right\n",
    "            elif tree1.right and tree2.right:\n",
    "                queue.append((tree1.right, tree2.right))\n",
    "        return t1"
   ]
  },
  {
   "cell_type": "code",
   "execution_count": null,
   "id": "green-jersey",
   "metadata": {},
   "outputs": [],
   "source": []
  },
  {
   "cell_type": "code",
   "execution_count": null,
   "id": "acting-modem",
   "metadata": {},
   "outputs": [],
   "source": []
  }
 ],
 "metadata": {
  "kernelspec": {
   "display_name": "Python 3",
   "language": "python",
   "name": "python3"
  },
  "language_info": {
   "codemirror_mode": {
    "name": "ipython",
    "version": 3
   },
   "file_extension": ".py",
   "mimetype": "text/x-python",
   "name": "python",
   "nbconvert_exporter": "python",
   "pygments_lexer": "ipython3",
   "version": "3.7.9"
  }
 },
 "nbformat": 4,
 "nbformat_minor": 5
}
