{
 "cells": [
  {
   "cell_type": "markdown",
   "metadata": {},
   "source": [
    "k개의 정렬된 리스트를 한개의 정렬된 리스트로 병합하라\n",
    "\n",
    "1 -> 4 -> 5,   \n",
    "1 -> 3 -> 4,   \n",
    "2 -> 6   \n",
    "  \n",
    "  \n",
    "  \n",
    "  \n",
    "1 -> 1 -> 2 -> 3 -> 4 -> 4 -> 5 -> 6"
   ]
  },
  {
   "cell_type": "code",
   "execution_count": 7,
   "metadata": {},
   "outputs": [],
   "source": [
    "from typing import List\n",
    "#Definition for singly-linked list.\n",
    "class ListNode:\n",
    "    def __init__(self, val=0, next=None):\n",
    "        self.val = val\n",
    "        self.next = next\n",
    "class Solution:\n",
    "    def mergeKLists(self, lists: List[ListNode]) -> ListNode:\n",
    "        root = result = ListNode(None)\n",
    "        heap = []\n",
    "        \n",
    "        for i in range(len(lists)):\n",
    "            if lists[i]:\n",
    "                heapq.heappush(heap, (lists[i].val, i, lists[i]))\n",
    "                \n",
    "        while heap:\n",
    "            node = heapq.heappop(heap)\n",
    "            idx = node[1]\n",
    "            result.next = node[2]\n",
    "            \n",
    "            result = result.next\n",
    "            if result.next:\n",
    "                heapq.heappush(heap, (result.next.val, idx, result.next))\n",
    "        print(root.val)        \n",
    "        return root.next"
   ]
  },
  {
   "cell_type": "code",
   "execution_count": 12,
   "metadata": {},
   "outputs": [],
   "source": [
    "def mergeKLists(self, lists: List[ListNode]) -> ListNode:\n",
    "    root = result = ListNode(None)\n",
    "    heap = []\n",
    "    lists = [[1,4,5],[1,3,4],[2,6]]\n",
    "    \n",
    "    for i in range(len(lists)):\n",
    "        if lists[i]:\n",
    "            heapq.heappush(heap, (lists[i].val, i, lists[i]))\n",
    "                \n",
    "    while heap:\n",
    "        node = heapq.heappop(heap)\n",
    "        idx = node[1]\n",
    "        result.next = node[2]\n",
    "            \n",
    "        result = result.next\n",
    "        if result.next:\n",
    "            heapq.heappush(heap, (result.next.val, idx, result.next))\n",
    "    print(root.val)        \n",
    "    \n",
    "    return root.next"
   ]
  },
  {
   "cell_type": "code",
   "execution_count": null,
   "metadata": {},
   "outputs": [],
   "source": []
  },
  {
   "cell_type": "code",
   "execution_count": null,
   "metadata": {},
   "outputs": [],
   "source": []
  },
  {
   "cell_type": "code",
   "execution_count": null,
   "metadata": {},
   "outputs": [],
   "source": []
  }
 ],
 "metadata": {
  "kernelspec": {
   "display_name": "Python 3",
   "language": "python",
   "name": "python3"
  },
  "language_info": {
   "codemirror_mode": {
    "name": "ipython",
    "version": 3
   },
   "file_extension": ".py",
   "mimetype": "text/x-python",
   "name": "python",
   "nbconvert_exporter": "python",
   "pygments_lexer": "ipython3",
   "version": "3.7.9"
  }
 },
 "nbformat": 4,
 "nbformat_minor": 4
}
