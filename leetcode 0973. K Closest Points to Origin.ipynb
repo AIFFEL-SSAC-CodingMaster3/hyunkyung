{
 "cells": [
  {
   "cell_type": "markdown",
   "id": "sharing-boundary",
   "metadata": {},
   "source": [
    "# 원점에 K번째로 가까운 점\n",
    "\n",
    "#### 평면상에 points 목록이 있을 때, 원점 (0,0)에서 K번 가까운 점 목록을 순서대로 출력하라. 평면상의 두 점 거리는 유클리드 거리로 한다. \n",
    "\n",
    "## $$ 유클리드 거리 =  \\sqrt{\\sum_{i=1}^{n}(p_i - q_i)^2} \\rightarrow  \\sqrt{(p_1 - q_1)^2 + (p_2 - q_2)^2}  \\rightarrow  \\sqrt{(0 - q_1)^2 + (0 - q_2)^2} $$\n",
    "\n",
    "Input: points = [[1,3],[-2,2]], k = 1   \n",
    "Output: [[-2,2]]   \n",
    "\n",
    "Input: points = [[3,3],[5,-1],[-2,4]], k = 2  \n",
    "Output: [[3,3],[-2,4]]   "
   ]
  },
  {
   "cell_type": "markdown",
   "id": "composed-advantage",
   "metadata": {},
   "source": [
    "### heapq 모듈 사용"
   ]
  },
  {
   "cell_type": "code",
   "execution_count": null,
   "id": "according-migration",
   "metadata": {},
   "outputs": [],
   "source": [
    "class Solution:\n",
    "    def kClosest(self, points: List[List[int]], k: int) -> List[List[int]]:\n",
    "        heap = []\n",
    "        for p in points:\n",
    "            dist = p[0] ** 2 + p[1] ** 2\n",
    "            heapq.heappush(heap, (dist, p))       # dist를 우선순위 기준으로, p값들을 push\n",
    "            \n",
    "        result = []\n",
    "        for _ in range(k):\n",
    "            (dist, p) = heapq.heappop(heap)\n",
    "            result.append(p)\n",
    "        return result"
   ]
  },
  {
   "cell_type": "markdown",
   "id": "challenging-pasta",
   "metadata": {},
   "source": [
    "### 정렬 사용"
   ]
  },
  {
   "cell_type": "code",
   "execution_count": null,
   "id": "grave-train",
   "metadata": {},
   "outputs": [],
   "source": [
    "class Solution:\n",
    "    def kClosest(self, points: List[List[int]], k: int) -> List[List[int]]:\n",
    "         return sorted(points, key = lambda p: p[0]*p[0] + p[1]*p[1])[:k]"
   ]
  },
  {
   "cell_type": "code",
   "execution_count": null,
   "id": "taken-weapon",
   "metadata": {},
   "outputs": [],
   "source": []
  },
  {
   "cell_type": "code",
   "execution_count": null,
   "id": "raised-proposal",
   "metadata": {},
   "outputs": [],
   "source": []
  },
  {
   "cell_type": "code",
   "execution_count": null,
   "id": "attempted-finance",
   "metadata": {},
   "outputs": [],
   "source": []
  },
  {
   "cell_type": "code",
   "execution_count": null,
   "id": "israeli-taylor",
   "metadata": {},
   "outputs": [],
   "source": []
  },
  {
   "cell_type": "code",
   "execution_count": null,
   "id": "welcome-bahamas",
   "metadata": {},
   "outputs": [],
   "source": []
  },
  {
   "cell_type": "code",
   "execution_count": null,
   "id": "historic-information",
   "metadata": {},
   "outputs": [],
   "source": []
  },
  {
   "cell_type": "code",
   "execution_count": null,
   "id": "superior-priority",
   "metadata": {},
   "outputs": [],
   "source": []
  },
  {
   "cell_type": "code",
   "execution_count": null,
   "id": "vietnamese-transport",
   "metadata": {},
   "outputs": [],
   "source": []
  }
 ],
 "metadata": {
  "kernelspec": {
   "display_name": "Python 3",
   "language": "python",
   "name": "python3"
  },
  "language_info": {
   "codemirror_mode": {
    "name": "ipython",
    "version": 3
   },
   "file_extension": ".py",
   "mimetype": "text/x-python",
   "name": "python",
   "nbconvert_exporter": "python",
   "pygments_lexer": "ipython3",
   "version": "3.7.9"
  }
 },
 "nbformat": 4,
 "nbformat_minor": 5
}
