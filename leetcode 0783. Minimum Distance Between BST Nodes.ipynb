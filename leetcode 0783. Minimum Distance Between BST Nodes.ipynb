{
 "cells": [
  {
   "cell_type": "markdown",
   "id": "modern-dinner",
   "metadata": {},
   "source": [
    "## 두 노드 간 값의 차이가 가장 작은 노드의 값의 차이를 출력하라.\n",
    "\n",
    "Input: root = [4,2,6,1,3,null,null]   \n",
    "Output: 1\n",
    "\n",
    "\n",
    "Input: root = [1,0,48,null,null,12,49]   \n",
    "Output: 1"
   ]
  },
  {
   "cell_type": "markdown",
   "id": "bigger-commitment",
   "metadata": {},
   "source": [
    "### 재귀 구조로 중위 순회"
   ]
  },
  {
   "cell_type": "code",
   "execution_count": 2,
   "id": "closed-alloy",
   "metadata": {},
   "outputs": [],
   "source": [
    "import sys\n",
    "\n",
    "class TreeNode:\n",
    "    def __init__(self, val=0, left=None, right=None):\n",
    "        self.val = val\n",
    "        self.left = left\n",
    "        self.right = right\n",
    "        \n",
    "class Solution:\n",
    "    prev = -sys.maxsize        # 최솟값 길이 제한 \n",
    "    result = sys.maxsize       # 플랫폼의 포인터 사이즈 리턴 (문자나 리스트 등 구조의 길이 제한)\n",
    "    \n",
    "    # 재귀 구조 중위 순회 비교 결과\n",
    "    def minDiffInBST(self, root: TreeNode) -> int:\n",
    "        if root.left:        # 왼쪽 자식 노드이면\n",
    "            self.minDiffInBST(root.left) # 왼쪽 자식 노드에 대해 재귀 호출 \n",
    "            \n",
    "        self.result = min(self.result, root.val - self.prev)\n",
    "        self.prev = root.val\n",
    "        \n",
    "        \n",
    "        if root.right:\n",
    "            self.minDiffInBST(root.right)\n",
    "            \n",
    "        return self.result\n",
    "        \n",
    "        "
   ]
  },
  {
   "cell_type": "markdown",
   "id": "alive-emerald",
   "metadata": {},
   "source": [
    "### 반복 구조로 중위 순회"
   ]
  },
  {
   "cell_type": "code",
   "execution_count": 4,
   "id": "informational-county",
   "metadata": {},
   "outputs": [],
   "source": [
    "import sys\n",
    "\n",
    "class TreeNode:\n",
    "    def __init__(self, val=0, left=None, right=None):\n",
    "        self.val = val\n",
    "        self.left = left\n",
    "        self.right = right\n",
    "        \n",
    "class Solution:\n",
    "    def minDiffInBST(self, root: TreeNode) -> int:\n",
    "        prev = -sys.maxsize        # 최솟값 길이 제한 \n",
    "        result = sys.maxsize       # 플랫폼의 포인터 사이즈 리턴 (문자나 리스트 등 구조의 길이 제한)\n",
    "    \n",
    "        stack = []\n",
    "        node = root\n",
    "        \n",
    "        # 반복 구조 중위 순회 비교 결과\n",
    "        while stack or node:\n",
    "            while node:\n",
    "                stack.append(node)\n",
    "                node = node.left\n",
    "                \n",
    "            node = stack.pop()\n",
    "            \n",
    "            result = min(result, node.val - prev)\n",
    "            prev = node.val\n",
    "            \n",
    "            node = node.right\n",
    "            \n",
    "        return result"
   ]
  },
  {
   "cell_type": "code",
   "execution_count": null,
   "id": "animated-launch",
   "metadata": {},
   "outputs": [],
   "source": []
  },
  {
   "cell_type": "code",
   "execution_count": null,
   "id": "stunning-beads",
   "metadata": {},
   "outputs": [],
   "source": []
  },
  {
   "cell_type": "code",
   "execution_count": null,
   "id": "fundamental-metro",
   "metadata": {},
   "outputs": [],
   "source": []
  },
  {
   "cell_type": "code",
   "execution_count": null,
   "id": "herbal-spyware",
   "metadata": {},
   "outputs": [],
   "source": []
  },
  {
   "cell_type": "code",
   "execution_count": null,
   "id": "healthy-bacon",
   "metadata": {},
   "outputs": [],
   "source": []
  },
  {
   "cell_type": "code",
   "execution_count": null,
   "id": "coral-certification",
   "metadata": {},
   "outputs": [],
   "source": []
  },
  {
   "cell_type": "code",
   "execution_count": null,
   "id": "single-kernel",
   "metadata": {},
   "outputs": [],
   "source": []
  },
  {
   "cell_type": "code",
   "execution_count": null,
   "id": "romantic-windsor",
   "metadata": {},
   "outputs": [],
   "source": []
  }
 ],
 "metadata": {
  "kernelspec": {
   "display_name": "Python 3",
   "language": "python",
   "name": "python3"
  },
  "language_info": {
   "codemirror_mode": {
    "name": "ipython",
    "version": 3
   },
   "file_extension": ".py",
   "mimetype": "text/x-python",
   "name": "python",
   "nbconvert_exporter": "python",
   "pygments_lexer": "ipython3",
   "version": "3.7.9"
  }
 },
 "nbformat": 4,
 "nbformat_minor": 5
}
