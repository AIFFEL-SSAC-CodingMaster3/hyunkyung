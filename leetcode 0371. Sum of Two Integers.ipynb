{
 "cells": [
  {
   "cell_type": "markdown",
   "id": "arctic-green",
   "metadata": {},
   "source": [
    "두 정수 a와 b의 합을 구하라. + 또는 - 연산자는 사용할 수 없다.\n",
    "\n",
    " \n",
    "Input: a = 1, b = 2   \n",
    "Output: 3   \n",
    "\n",
    "Input: a = 2, b = 3   \n",
    "Output: 5   "
   ]
  },
  {
   "cell_type": "code",
   "execution_count": null,
   "id": "preceding-ambassador",
   "metadata": {},
   "outputs": [],
   "source": [
    "class Solution:\n",
    "    def getSum(self, a: int, b: int) -> int:\n",
    "        MASK = 0xFFFFFFFF\n",
    "        INT_MAX = 0x7FFFFFFF\n",
    "        \n",
    "        a_bin = bin(a & MASK)[2:].zfill(32)\n",
    "        b_bin = bin(b & MASK)[2:].zfill(32)\n",
    "        \n",
    "        result = []\n",
    "        carry = 0\n",
    "        sum = 0\n",
    "        for i in range(32):\n",
    "            A = int(a_bin[31-i])\n",
    "            B = int(b_bin[31-i])\n",
    "            \n",
    "            #전가산기 구현\n",
    "            Q1 = A & B\n",
    "            Q2 = A ^ B\n",
    "            Q3 = Q2 & carry\n",
    "            sum = carry ^ Q2\n",
    "            carry = Q1 | Q3\n",
    "            \n",
    "            result.append(str(sum))\n",
    "            \n",
    "        if carry == 1:\n",
    "            result.append('1')\n",
    "            \n",
    "        # 초과 자릿수 자리\n",
    "        result = int(''.join(result[::-1]), 2) & MASK\n",
    "        \n",
    "        # 음수 처리\n",
    "        if result > INT_MAX:\n",
    "            result = ~(result ^ MASK)\n",
    "            \n",
    "        return result"
   ]
  },
  {
   "cell_type": "code",
   "execution_count": null,
   "id": "generous-strategy",
   "metadata": {},
   "outputs": [],
   "source": [
    "class Solution:\n",
    "    def getSum(self, a: int, b: int) -> int:\n",
    "        MASK = 0xFFFFFFFF\n",
    "        INT_MAX = 0x7FFFFFFF\n",
    "        \n",
    "        # 합, 자릿수 처리\n",
    "        while b != 0:\n",
    "            a,b = (a^b) & MASK, ((a&b) << 1) & MASK\n",
    "            \n",
    "        # 음수처리\n",
    "        if a > INT_MAX:\n",
    "            a = ~ (a^MASK)\n",
    "            \n",
    "        return a"
   ]
  }
 ],
 "metadata": {
  "kernelspec": {
   "display_name": "Python 3",
   "language": "python",
   "name": "python3"
  },
  "language_info": {
   "codemirror_mode": {
    "name": "ipython",
    "version": 3
   },
   "file_extension": ".py",
   "mimetype": "text/x-python",
   "name": "python",
   "nbconvert_exporter": "python",
   "pygments_lexer": "ipython3",
   "version": "3.7.9"
  }
 },
 "nbformat": 4,
 "nbformat_minor": 5
}
