{
 "cells": [
  {
   "cell_type": "markdown",
   "id": "entire-accuracy",
   "metadata": {},
   "source": [
    "## 정렬된 배열의 이진 탐색 트리 변환\n",
    "\n",
    "오름차순으로 정렬된 배열을 높이 균형 이진 탐색 트리로 변환하라.\n",
    "\n",
    "Input: nums = [-10,-3,0,5,9]   \n",
    "Output: [0,-3,9,-10,null,5]   \n",
    "Explanation: [0,-10,5,null,-3,null,9]    "
   ]
  },
  {
   "cell_type": "code",
   "execution_count": null,
   "id": "environmental-cooler",
   "metadata": {},
   "outputs": [],
   "source": [
    "# Definition for a binary tree node.\n",
    "class TreeNode:\n",
    "    def __init__(self, val=0, left=None, right=None):\n",
    "        self.val = val\n",
    "        self.left = left\n",
    "        self.right = right\n",
    "class Solution:\n",
    "    def sortedArrayToBST(self, nums: List[int]) -> TreeNode:\n",
    "        if not nums:\n",
    "            return None\n",
    "        \n",
    "        mid = len(nums) // 2\n",
    "        # 분할 정복으로 이진 검색 결과 트리 구성\n",
    "        node = TreeNode(nums[mid])\n",
    "        node.left = self.sortedArrayToBST(nums[:mid])\n",
    "        node.right = self.sortedArrayToBST(nums[mid+1:])\n",
    "        \n",
    "        return node"
   ]
  }
 ],
 "metadata": {
  "kernelspec": {
   "display_name": "Python 3",
   "language": "python",
   "name": "python3"
  },
  "language_info": {
   "codemirror_mode": {
    "name": "ipython",
    "version": 3
   },
   "file_extension": ".py",
   "mimetype": "text/x-python",
   "name": "python",
   "nbconvert_exporter": "python",
   "pygments_lexer": "ipython3",
   "version": "3.7.9"
  }
 },
 "nbformat": 4,
 "nbformat_minor": 5
}
