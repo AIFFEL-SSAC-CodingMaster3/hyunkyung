{
 "cells": [
  {
   "cell_type": "markdown",
   "id": "forbidden-easter",
   "metadata": {},
   "source": [
    "### 가장 긴 동일 값의 경로\n",
    "\n",
    "#### 동일한 값을 지닌 가장 긴 경로를 찾아라"
   ]
  },
  {
   "cell_type": "code",
   "execution_count": null,
   "id": "unique-outline",
   "metadata": {},
   "outputs": [],
   "source": [
    "# DFS 이용\n",
    "\n",
    "# Definition for a binary tree node.\n",
    "class TreeNode:\n",
    "    def __init__(self, val=0, left=None, right=None):\n",
    "        self.val = val\n",
    "        self.left = left\n",
    "        self.right = right\n",
    "        \n",
    "class Solution:\n",
    "    def longestUnivaluePath(self, root: TreeNode) -> int:\n",
    "        def dfs(node: TreeNode):\n",
    "            if node is None:\n",
    "                return -1\n",
    "                        \n",
    "            # 존재하지 않는 노드까지 DFS 재귀 탐색\n",
    "            left = dfs(node.left)\n",
    "            right = dfs(node.right)\n",
    "            \n",
    "            # 현재 노드가 자식 노드와 동일한 경우 거리 1 증가\n",
    "            if node.left and node.left.val == node.val:\n",
    "                left += 1\n",
    "                \n",
    "            else:\n",
    "                left = 0\n",
    "                \n",
    "            if node.right and node.right.val == node.val:\n",
    "                right += 1\n",
    "            else:\n",
    "                right = 0\n",
    "                \n",
    "            # 왼쪽과 오른쪽 자식 노드 간 거리의 합 최댓값이 결과\n",
    "            self.result = max(self.result, left+right)\n",
    "            # 자식 노드 상태값 중 큰 값 리턴\n",
    "            return max(left, right)\n",
    "        \n",
    "        dfs(root)\n",
    "        return self.result"
   ]
  }
 ],
 "metadata": {
  "kernelspec": {
   "display_name": "Python 3",
   "language": "python",
   "name": "python3"
  },
  "language_info": {
   "codemirror_mode": {
    "name": "ipython",
    "version": 3
   },
   "file_extension": ".py",
   "mimetype": "text/x-python",
   "name": "python",
   "nbconvert_exporter": "python",
   "pygments_lexer": "ipython3",
   "version": "3.7.9"
  }
 },
 "nbformat": 4,
 "nbformat_minor": 5
}
