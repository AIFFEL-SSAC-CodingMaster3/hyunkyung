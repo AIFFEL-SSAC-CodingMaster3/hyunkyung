{
 "cells": [
  {
   "cell_type": "markdown",
   "metadata": {},
   "source": [
    "# 유효한 괄호\n",
    "---\n",
    "괄호로 된 입력값이 올바른지 판별하라.\n",
    "\n",
    "Input: s = \"()[]{}\"    \n",
    "Output: true\n",
    "\n"
   ]
  },
  {
   "cell_type": "code",
   "execution_count": 5,
   "metadata": {},
   "outputs": [],
   "source": [
    "def isValid():\n",
    "    s = \"()[]{}\"\n",
    "    sStack = []\n",
    "    charT = {')' : '(', \"}\":\"{\", \"]\": \"[\"}     # pop 할꺼니까 뒤에꺼가 key\n",
    "    \n",
    "    for l in s:\n",
    "        if l not in charT:\n",
    "            sStack.append(l)        # (, [, { 이거 넣어줌\n",
    "        elif not sStack or charT[l] != sStack.pop():        # 빼서 확인했는데 다르면\n",
    "            return False\n",
    "    return len(sStack) == 0"
   ]
  },
  {
   "cell_type": "code",
   "execution_count": 6,
   "metadata": {},
   "outputs": [
    {
     "data": {
      "text/plain": [
       "True"
      ]
     },
     "execution_count": 6,
     "metadata": {},
     "output_type": "execute_result"
    }
   ],
   "source": [
    "isValid()"
   ]
  },
  {
   "cell_type": "code",
   "execution_count": null,
   "metadata": {},
   "outputs": [],
   "source": []
  }
 ],
 "metadata": {
  "kernelspec": {
   "display_name": "Python 3",
   "language": "python",
   "name": "python3"
  },
  "language_info": {
   "codemirror_mode": {
    "name": "ipython",
    "version": 3
   },
   "file_extension": ".py",
   "mimetype": "text/x-python",
   "name": "python",
   "nbconvert_exporter": "python",
   "pygments_lexer": "ipython3",
   "version": "3.7.9"
  }
 },
 "nbformat": 4,
 "nbformat_minor": 4
}
