{
 "cells": [
  {
   "cell_type": "markdown",
   "metadata": {},
   "source": [
    "#### J는 보석이며, S는 갖고 있는 돌이다. S에는 보석이 몇개나 있을까? 대소문자는 구분한다.\n",
    "\n",
    "\n",
    "입력   \n",
    "J = \"aA\", S = \"aAAbbbb\"   \n",
    "  \n",
    "출력  \n",
    "3   "
   ]
  },
  {
   "cell_type": "code",
   "execution_count": 1,
   "metadata": {},
   "outputs": [],
   "source": [
    "class Solution:\n",
    "    def numJewelsInStones(self, jewels: str, stones: str) -> int:\n",
    "\n",
    "        je = list(jewels)\n",
    "        count = 0\n",
    "\n",
    "        for i in range(len(stones)):\n",
    "            for j in range(len(je)):\n",
    "                if stones[i] == je[j]:\n",
    "                    count = count + 1\n",
    "                    continue\n",
    "        \n",
    "        return count\n",
    "            "
   ]
  },
  {
   "cell_type": "code",
   "execution_count": 2,
   "metadata": {},
   "outputs": [],
   "source": [
    "class Solution:\n",
    "    def numJewelsInStones(self, jewels: str, stones: str) -> int:\n",
    "        freq = {}       # 해시 테이블 선언\n",
    "        count = 0\n",
    "        \n",
    "        # 돌 빈도수 계산\n",
    "        for char in S:                  # 돌멩이에 있는 문자들 중에서\n",
    "            if char not in freq:        # 처음 등장한 문자라면 \n",
    "                freq[char] = 1          # 1 선언\n",
    "            else:                       # 기존에 있던 문자라면\n",
    "                freq[char] += 1         # 빈도수 늘리기\n",
    "                \n",
    "                \n",
    "        # 보석 빈도수 합산\n",
    "        for char in J:                  # 보석에 있는 문자들이\n",
    "            if char in freq:            # 해쉬 테이블에 있다면\n",
    "                count += freq[char]     # value 합산하기\n",
    "                \n",
    "        return count\n",
    "    "
   ]
  },
  {
   "cell_type": "markdown",
   "metadata": {},
   "source": [
    "#### defaultdict 활용 - 비교 생략"
   ]
  },
  {
   "cell_type": "code",
   "execution_count": 3,
   "metadata": {},
   "outputs": [],
   "source": [
    "class Solution:\n",
    "    def numJewelsInStones(self, jewels: str, stones: str) -> int:\n",
    "        freq = collections.defaultdict(int)       # defaultdict 선언\n",
    "        count = 0\n",
    "        \n",
    "        # 돌 빈도수 계산\n",
    "        for char in S:\n",
    "            freq[char] += 1       # 비교하지 않고 빈도수 계산 가능. key가 없는 값이면 알아서 디폴트를 반환해주니까\n",
    "            \n",
    "        # 보석 빈도수 합산\n",
    "        for char in J:\n",
    "            count += freq[char]\n",
    "            \n",
    "        return count"
   ]
  },
  {
   "cell_type": "markdown",
   "metadata": {},
   "source": [
    "#### counter - 계산 생략"
   ]
  },
  {
   "cell_type": "code",
   "execution_count": 4,
   "metadata": {},
   "outputs": [],
   "source": [
    "class Solution:\n",
    "    def numJewelsInStones(self, jewels: str, stones: str) -> int:\n",
    "        freq = collections.Counter(stones)       # S 빈도수 계산\n",
    "        count = 0\n",
    "        \n",
    "        # 보석 빈도수 합산\n",
    "        for char in jewels:\n",
    "            count += freq[char]\n",
    "            \n",
    "        return count"
   ]
  },
  {
   "cell_type": "code",
   "execution_count": 5,
   "metadata": {},
   "outputs": [],
   "source": [
    "class Solution:\n",
    "    def numJewelsInStones(self, jewels: str, stones: str) -> int:\n",
    "        return sum(s in jewels for s in stones)      # stones의 원소 s가 jewels에 있다면 True 반환 -> True 의 개수를 센다"
   ]
  },
  {
   "cell_type": "code",
   "execution_count": 1,
   "metadata": {},
   "outputs": [],
   "source": [
    "class Solution:\n",
    "    def numJewelsInStones(self, jewels: str, stones: str) -> int:\n",
    "        count =0\n",
    "        for i in range(len(jewels)):\n",
    "            count+=stones.count(jewels[i])\n",
    "        return count"
   ]
  },
  {
   "cell_type": "code",
   "execution_count": null,
   "metadata": {},
   "outputs": [],
   "source": [
    "a.count('7')"
   ]
  },
  {
   "cell_type": "code",
   "execution_count": null,
   "metadata": {},
   "outputs": [],
   "source": []
  },
  {
   "cell_type": "code",
   "execution_count": null,
   "metadata": {},
   "outputs": [],
   "source": []
  },
  {
   "cell_type": "code",
   "execution_count": null,
   "metadata": {},
   "outputs": [],
   "source": []
  }
 ],
 "metadata": {
  "kernelspec": {
   "display_name": "Python 3",
   "language": "python",
   "name": "python3"
  },
  "language_info": {
   "codemirror_mode": {
    "name": "ipython",
    "version": 3
   },
   "file_extension": ".py",
   "mimetype": "text/x-python",
   "name": "python",
   "nbconvert_exporter": "python",
   "pygments_lexer": "ipython3",
   "version": "3.7.9"
  }
 },
 "nbformat": 4,
 "nbformat_minor": 4
}
