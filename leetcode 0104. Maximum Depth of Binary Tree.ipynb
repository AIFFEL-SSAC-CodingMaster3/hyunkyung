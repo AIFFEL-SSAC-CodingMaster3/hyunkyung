{
 "cells": [
  {
   "cell_type": "markdown",
   "id": "activated-patent",
   "metadata": {},
   "source": [
    "#### 이진 트리의 최대 깊이를 구하라.\n",
    "\n",
    "[3,9,20,null,null,15,7]가 주어졌을 때    \n",
    "\n",
    "깊이는 3이다."
   ]
  },
  {
   "cell_type": "code",
   "execution_count": 1,
   "id": "printable-blast",
   "metadata": {},
   "outputs": [],
   "source": [
    "#Definition for a binary tree node.\n",
    "class TreeNode:\n",
    "    def __init__(self, val=0, left=None, right=None):\n",
    "        self.val = val\n",
    "        self.left = left\n",
    "        self.right = right\n",
    "        \n",
    "class Solution:\n",
    "    def maxDepth(self, root: TreeNode) -> int:\n",
    "        if root is None:\n",
    "            return 0\n",
    "        \n",
    "        queue = collections.deque([root])\n",
    "        depth = 0\n",
    "        \n",
    "        while queue:\n",
    "            depth += 1\n",
    "            # 큐 연산 추출 노드의 자식 노드 삽입\n",
    "            for _ in range(len(queue)):\n",
    "                cur_root = queue.popleft()\n",
    "                if cur_root.left:\n",
    "                    queue.append(cur_root.left)\n",
    "                    \n",
    "                if cur_root.right:\n",
    "                    queue.append(cur_root.right)\n",
    "                    \n",
    "            # BFS 반복 횟수 == 깊이\n",
    "            return depth"
   ]
  },
  {
   "cell_type": "code",
   "execution_count": null,
   "id": "sudden-moldova",
   "metadata": {},
   "outputs": [],
   "source": []
  }
 ],
 "metadata": {
  "kernelspec": {
   "display_name": "Python 3",
   "language": "python",
   "name": "python3"
  },
  "language_info": {
   "codemirror_mode": {
    "name": "ipython",
    "version": 3
   },
   "file_extension": ".py",
   "mimetype": "text/x-python",
   "name": "python",
   "nbconvert_exporter": "python",
   "pygments_lexer": "ipython3",
   "version": "3.7.9"
  }
 },
 "nbformat": 4,
 "nbformat_minor": 5
}
