{
 "cells": [
  {
   "cell_type": "markdown",
   "id": "nutritional-meaning",
   "metadata": {},
   "source": [
    "# 정렬 알고리즘 "
   ]
  },
  {
   "cell_type": "markdown",
   "id": "adequate-trading",
   "metadata": {},
   "source": [
    "* 목록의 요소를 __특정 순서__ 대로 넣는 알고리즘. \n",
    "* 대개 __숫자식 순서(Numerical Order)__ 와 __사전식 순서(Lexicographical Order)__ 로 정렬한다.\n",
    "* 버블 정렬, 병합 정렬, 퀵 정렬이 있다.\n",
    "\n",
    "#### 안정 정렬 vs 불안정 정렬\n",
    "\n",
    "* 정렬의 안정성이란 '정렬되지 않은 상태에서 같은 키값을 가진 원소의 순서가 정렬 후에도 유지되는가'를 뜻함\n",
    "* 퀵정렬은 불안정 정렬\n",
    "* 병합정렬, 버블 정렬은 안정정렬\n",
    "* 파이썬의 기본 정렬 알고리즘으로는 팀소트 사용"
   ]
  },
  {
   "cell_type": "markdown",
   "id": "welsh-hormone",
   "metadata": {},
   "source": [
    "## 1. 버블 정렬 (Bubble Sort)"
   ]
  },
  {
   "cell_type": "markdown",
   "id": "equal-plaza",
   "metadata": {},
   "source": [
    "* 시간복잡도 $O(n^2)$\n",
    "* 서로 __인접한__ 두 원소를 검사 후 정렬하는 알고리즘.\n",
    "* 첫번째와 두번째, 두번째와 세번째, 세번째와 네번째..(마지막-1)과 마지막 자료를 비교하여 교환하면서 자료를 정렬.\n",
    "\n",
    "![bubble](버블정렬.png)\n",
    "\n",
    "* 장점\n",
    "    * 구현이 매우 간단하다.\n",
    "* 단점\n",
    "    * 하나의 요소가 가장 왼쪽에서 가장 오른쪽으로 이동하기 위해서는 배열에서 모든 다른 요소들과 교환되어야 한다.\n",
    "    * 특히 특정 요소가 최종 정렬 위치에 이미 있는 경우라도 교환되는 일이 일어난다.\n",
    "\n",
    "* 일반적으로 자료의 교환 작업(SWAP)이 자료의 이동 작업(MOVE)보다 더 복잡하기 때문에 버블 정렬은 단순성에도 불구하고 거의 쓰이지 않는다.\n"
   ]
  },
  {
   "cell_type": "code",
   "execution_count": 1,
   "id": "sexual-necessity",
   "metadata": {},
   "outputs": [],
   "source": [
    "def bubblesort(A):\n",
    "    for i in range(1, len(A)):\n",
    "        for j in range(0, len(A)-1):\n",
    "            if A[j] > A[j+1]:\n",
    "                A[j], A[j+1] = A[j+1], A[j]"
   ]
  },
  {
   "cell_type": "markdown",
   "id": "stopped-cincinnati",
   "metadata": {},
   "source": [
    "## 2. 병합 정렬 (Merge Sort)"
   ]
  },
  {
   "cell_type": "markdown",
   "id": "collect-scholarship",
   "metadata": {},
   "source": [
    "* ‘존 폰 노이만(John von Neumann)’이라는 사람이 제안한 방법\n",
    "* 일반적인 방법으로 구현했을 때 이 정렬은 안정 정렬 에 속하며, 분할 정복 알고리즘의 하나 이다.\n",
    "    * 분할 정복(divide and conquer) 방법\n",
    "        * 문제를 작은 2개의 문제로 분리하고 각각을 해결한 다음, 결과를 모아서 원래의 문제를 해결하는 전략이다.\n",
    "        * 재귀 호출을 이용하여 구현.\n",
    "\n",
    "* 병합 정렬의 단계\n",
    "    * 분할(Divide): 입력 배열을 같은 크기의 2개의 부분 배열로 분할한다.\n",
    "    * 정복(Conquer): 부분 배열을 정렬한다. 부분 배열의 크기가 충분히 작지 않으면 재귀 호출을 이용하여 리스트의 길이가 0 또는 1이 될때까지  분할 정복 방법을 적용한다.\n",
    "    * 결합(Combine): 정렬된 부분 배열들을 하나의 배열에 합병한다.\n",
    "\n",
    "\n",
    "![mergesort](MergeSort.png)\n",
    "\n",
    "* 단점\n",
    "    * 만약 레코드를 배열(Array)로 구성하면, 임시 배열이 필요하다. (제자리 정렬(in-place sorting)이 아니다.)\n",
    "    * 레코드들의 크기가 큰 경우에는 이동 횟수가 많으므로 매우 큰 시간적 낭비를 초래한다.\n",
    "* 장점\n",
    "    * 입력 데이터가 무엇이든 간에 정렬되는 시간은 동일하다. ($O(nlogn)$로 동일)\n",
    "    * 만약 레코드를 연결 리스트(Linked List)로 구성하면, 링크 인덱스만 변경되므로 데이터의 이동은 무시할 수 있을 정도로 작아진다.\n",
    "    * 따라서 크기가 큰 레코드를 정렬할 경우에 연결 리스트를 사용한다면, 병합 정렬은 퀵 정렬을 포함한 다른 어떤 졍렬 방법보다 효율적이다.\n"
   ]
  },
  {
   "cell_type": "code",
   "execution_count": null,
   "id": "cellular-arabic",
   "metadata": {},
   "outputs": [],
   "source": [
    "def mergesort(arr):\n",
    "    if len(arr) < 2:\n",
    "        return arr\n",
    "\n",
    "    mid = len(arr) // 2      # 배열의 중간 인덱스 \n",
    "    low_arr = mergesort(arr[:mid])\n",
    "    high_arr = mergesort(arr[mid:])\n",
    "\n",
    "    merged_arr = []\n",
    "    l = h = 0\n",
    "    while l < len(low_arr) and h < len(high_arr):\n",
    "        if low_arr[l] < high_arr[h]:\n",
    "            merged_arr.append(low_arr[l])\n",
    "            l += 1\n",
    "        else:\n",
    "            merged_arr.append(high_arr[h])\n",
    "            h += 1\n",
    "    merged_arr += low_arr[l:]\n",
    "    merged_arr += high_arr[h:]\n",
    "    return merged_arr"
   ]
  },
  {
   "cell_type": "markdown",
   "id": "private-solid",
   "metadata": {},
   "source": [
    "## 3. 퀵 정렬"
   ]
  },
  {
   "cell_type": "markdown",
   "id": "later-intersection",
   "metadata": {},
   "source": [
    "* ‘찰스 앤터니 리처드 호어(Charles Antony Richard Hoare)’가 개발한 정렬 알고리즘\n",
    "* 퀵 정렬은 불안정 정렬에 속하며, 다른 원소와의 비교만으로 정렬을 수행하는 비교 정렬에 속한다.\n",
    "* 병합 정렬처럼 분할 정복 알고리즘이고 평균적으로 매우 빠른 수행 속도를 자랑하는 정렬 방법\n",
    "* 하나의 리스트를 피벗(pivot)을 기준으로 두 개의 비균등한 크기로 분할하고 분할된 부분 리스트를 정렬한 다음, 두 개의 정렬된 부분 리스트를 합하여 전체가 정렬된 리스트가 되게 하는 방법이다.\n",
    "\n",
    "* 퀵 정렬의 단계\n",
    "    * 분할(Divide): 입력 배열을 피벗(리스트 안에 있는 한 요소)을 기준으로 비균등하게 2개의 부분 배열(피벗을 중심으로 왼쪽: 피벗보다 작은 요소들, 오른쪽: 피벗보다 큰 요소들)로 분할한다.\n",
    "    * 정복(Conquer): 부분 배열을 정렬한다. 부분 배열의 크기가 충분히 작지 않으면 재귀 호출을 이용하여 다시 분할 정복 방법을 적용한다.\n",
    "    * 결합(Combine): 정렬된 부분 배열들을 하나의 배열에 합병한다.\n",
    "\n",
    "\n",
    "![quick](quick-sort.png)"
   ]
  },
  {
   "cell_type": "code",
   "execution_count": 3,
   "id": "beautiful-topic",
   "metadata": {},
   "outputs": [],
   "source": [
    "def quicksort(A, lo, hi):\n",
    "    def partition(lo, hi):\n",
    "        pivot = A[hi]\n",
    "        left = lo       # left 포인터\n",
    "        for right in range(lo, hi):\n",
    "            if A[right] < pivot:\n",
    "                A[left], A[right] = A[right], A[left]\n",
    "                left += 1       # swap 후 left 포인터도 같이 이동 \n",
    "        A[left], A[hi] = A[hi], A[left]\n",
    "        return left\n",
    "    \n",
    "    if lo < hi:  \n",
    "        pivot = partiton(lo, hi)\n",
    "        quicksort(A, lo, pivot-1)\n",
    "        quicksort(A, pivot+1, hi)"
   ]
  },
  {
   "cell_type": "code",
   "execution_count": null,
   "id": "speaking-reason",
   "metadata": {},
   "outputs": [],
   "source": []
  }
 ],
 "metadata": {
  "kernelspec": {
   "display_name": "Python 3",
   "language": "python",
   "name": "python3"
  },
  "language_info": {
   "codemirror_mode": {
    "name": "ipython",
    "version": 3
   },
   "file_extension": ".py",
   "mimetype": "text/x-python",
   "name": "python",
   "nbconvert_exporter": "python",
   "pygments_lexer": "ipython3",
   "version": "3.7.9"
  }
 },
 "nbformat": 4,
 "nbformat_minor": 5
}
