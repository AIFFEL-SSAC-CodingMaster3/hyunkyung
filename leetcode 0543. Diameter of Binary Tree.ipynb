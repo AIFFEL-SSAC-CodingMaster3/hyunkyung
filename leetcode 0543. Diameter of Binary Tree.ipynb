{
 "cells": [
  {
   "cell_type": "markdown",
   "id": "solar-starter",
   "metadata": {},
   "source": [
    "### 이진트리의 직경\n",
    "\n",
    "이진 트리에서 두 노드 간 가장 긴 경로의 길이를 출력하라.\n",
    "\n",
    "이진트리가 주어졌을 때,\n",
    "\n",
    "        1    \n",
    "       /  \\   \n",
    "      2    3   \n",
    "     / \\    \n",
    "    4   5   \n",
    "   \n",
    " 가장 긴 경로는 4-> 2->1->3 또는 5->2->1->3 으로 3 이다.  "
   ]
  },
  {
   "cell_type": "code",
   "execution_count": 1,
   "id": "quantitative-tuesday",
   "metadata": {},
   "outputs": [],
   "source": [
    "# Definition for a binary tree node.\n",
    "class TreeNode:\n",
    "    def __init__(self, val=0, left=None, right=None):\n",
    "        self.val = val\n",
    "        self.left = left\n",
    "        self.right = right\n",
    "        \n",
    "class Solution:\n",
    "    longest : int = 0\n",
    "    def diameterOfBinaryTree(self, root: TreeNode) -> int:\n",
    "        def dfs(node: TreeNode) -> int:\n",
    "            if not node:\n",
    "                return -1\n",
    "            \n",
    "            # 왼쪽, 오른쪽 각 리프 노드까지 탐색\n",
    "            left = dfs(node.left)\n",
    "            right = dfs(node.right)\n",
    "            \n",
    "            # 가장 긴 경로\n",
    "            self.longest = max(self.longest, left + right+2)\n",
    "            # 상태값\n",
    "            return max(left, right) + 1\n",
    "        \n",
    "        dfs(root)\n",
    "        return self.longest"
   ]
  },
  {
   "cell_type": "code",
   "execution_count": null,
   "id": "competitive-drunk",
   "metadata": {},
   "outputs": [],
   "source": []
  }
 ],
 "metadata": {
  "kernelspec": {
   "display_name": "Python 3",
   "language": "python",
   "name": "python3"
  },
  "language_info": {
   "codemirror_mode": {
    "name": "ipython",
    "version": 3
   },
   "file_extension": ".py",
   "mimetype": "text/x-python",
   "name": "python",
   "nbconvert_exporter": "python",
   "pygments_lexer": "ipython3",
   "version": "3.7.9"
  }
 },
 "nbformat": 4,
 "nbformat_minor": 5
}
