{
 "cells": [
  {
   "cell_type": "markdown",
   "id": "diagnostic-basket",
   "metadata": {},
   "source": [
    "# 주식을 사고팔기 가장 좋은 시점 2\n",
    "\n",
    "\n",
    "여러번의 거래로 낼 수 있는 최대 이익을 산출하라.\n",
    "\n",
    "Input: prices = [7,1,5,3,6,4]   \n",
    "Output: 7   \n",
    "1일때 사서 5일 때 팔아 4의 이익을 얻고, 3일때 사서 6일 때 팔아 3의 이익을 얻는다. 둘을 합하면 7이 된다.   \n",
    "\n",
    "Input: prices = [1,2,3,4,5]   \n",
    "Output: 4    "
   ]
  },
  {
   "cell_type": "code",
   "execution_count": null,
   "id": "infinite-fantasy",
   "metadata": {},
   "outputs": [],
   "source": [
    "class Solution:\n",
    "    def maxProfit(self, prices: List[int]) -> int:\n",
    "        result = 0\n",
    "        # 값이 오르는 경우 매번 그리디 계산\n",
    "        for i in range(len(prices)-1):\n",
    "            if prices[i+1] > prices[i]:\n",
    "                result += prices[i+1] - prices[i]\n",
    "        return result"
   ]
  },
  {
   "cell_type": "code",
   "execution_count": null,
   "id": "honey-shirt",
   "metadata": {},
   "outputs": [],
   "source": [
    "class Solution:\n",
    "    def maxProfit(self, prices: List[int]) -> int:\n",
    "        # 0보다 크면 무조건 합산\n",
    "        return sum(max(prices[i+1] - prices[i], 0) for i in range(len(prices)-1))"
   ]
  }
 ],
 "metadata": {
  "kernelspec": {
   "display_name": "aiffel",
   "language": "python",
   "name": "aiffel"
  },
  "language_info": {
   "codemirror_mode": {
    "name": "ipython",
    "version": 3
   },
   "file_extension": ".py",
   "mimetype": "text/x-python",
   "name": "python",
   "nbconvert_exporter": "python",
   "pygments_lexer": "ipython3",
   "version": "3.7.9"
  }
 },
 "nbformat": 4,
 "nbformat_minor": 5
}
