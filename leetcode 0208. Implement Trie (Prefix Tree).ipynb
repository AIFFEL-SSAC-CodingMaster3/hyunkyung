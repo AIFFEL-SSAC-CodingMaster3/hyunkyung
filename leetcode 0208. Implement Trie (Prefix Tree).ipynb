{
 "cells": [
  {
   "cell_type": "markdown",
   "id": "infectious-detail",
   "metadata": {},
   "source": [
    "## 트라이의 insert, search, startsWith 메소드를 구현하라.\n",
    "\n",
    "Input   \n",
    "[\"Trie\", \"insert\", \"search\", \"search\", \"startsWith\", \"insert\", \"search\"]  \n",
    "[[], [\"apple\"], [\"apple\"], [\"app\"], [\"app\"], [\"app\"], [\"app\"]]  \n",
    "\n",
    "Output  \n",
    "[null, null, true, false, true, null, true]  \n",
    " \n",
    "Explanation  \n",
    "Trie trie = new Trie();  \n",
    "trie.insert(\"apple\");   \n",
    "trie.search(\"apple\");   // return True  \n",
    "trie.search(\"app\");     // return False  \n",
    "trie.startsWith(\"app\"); // return True  \n",
    "trie.insert(\"app\");  \n",
    "trie.search(\"app\");     // return True   "
   ]
  },
  {
   "cell_type": "code",
   "execution_count": null,
   "id": "trying-appendix",
   "metadata": {},
   "outputs": [],
   "source": [
    "class Trie:\n",
    "\n",
    "    def __init__(self):\n",
    "        \"\"\"\n",
    "        Initialize your data structure here.\n",
    "        \"\"\"\n",
    "        \n",
    "\n",
    "    def insert(self, word: str) -> None:\n",
    "        \"\"\"\n",
    "        Inserts a word into the trie.\n",
    "        \"\"\"\n",
    "        \n",
    "\n",
    "    def search(self, word: str) -> bool:\n",
    "        \"\"\"\n",
    "        Returns if the word is in the trie.\n",
    "        \"\"\"\n",
    "        \n",
    "\n",
    "    def startsWith(self, prefix: str) -> bool:\n",
    "        \"\"\"\n",
    "        Returns if there is any word in the trie that starts with the given prefix.\n",
    "        \"\"\"\n",
    "        \n",
    "\n",
    "\n",
    "# Your Trie object will be instantiated and called as such:\n",
    "# obj = Trie()\n",
    "# obj.insert(word)\n",
    "# param_2 = obj.search(word)\n",
    "# param_3 = obj.startsWith(prefix)"
   ]
  },
  {
   "cell_type": "code",
   "execution_count": null,
   "id": "alpine-activation",
   "metadata": {},
   "outputs": [],
   "source": []
  }
 ],
 "metadata": {
  "kernelspec": {
   "display_name": "Python 3",
   "language": "python",
   "name": "python3"
  },
  "language_info": {
   "codemirror_mode": {
    "name": "ipython",
    "version": 3
   },
   "file_extension": ".py",
   "mimetype": "text/x-python",
   "name": "python",
   "nbconvert_exporter": "python",
   "pygments_lexer": "ipython3",
   "version": "3.7.9"
  }
 },
 "nbformat": 4,
 "nbformat_minor": 5
}
