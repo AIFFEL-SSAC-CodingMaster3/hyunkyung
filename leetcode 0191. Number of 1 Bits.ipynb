{
 "cells": [
  {
   "cell_type": "markdown",
   "id": "seven-nation",
   "metadata": {},
   "source": [
    "#### 부호 없는 정수형(Unsigned Integer)을 입력받아 1비트의 개수를 출력하라.\n",
    "\n",
    "\n",
    "\n",
    "\n",
    "unsigned int는 음수를 제외한 0과 양수를 표현하고, 첫번째 비트는 부호비트로 사용할 필요가 없다."
   ]
  },
  {
   "cell_type": "markdown",
   "id": "taken-plasma",
   "metadata": {},
   "source": [
    "### 1. 해밍 가중치 값 구하기\n",
    "\n",
    "\n",
    "* 0으로 구성된 비트들과의 해밍 거리 구하기와 같다.\n",
    "* 해밍거리 = XOR 연산 -> 서로 다른 부분을 count"
   ]
  },
  {
   "cell_type": "code",
   "execution_count": null,
   "id": "sweet-writer",
   "metadata": {},
   "outputs": [],
   "source": [
    "class Solution:\n",
    "    def hammingWeight(self, n: int) -> int:\n",
    "        return bin(n).count('1')"
   ]
  },
  {
   "cell_type": "code",
   "execution_count": null,
   "id": "rubber-serve",
   "metadata": {},
   "outputs": [],
   "source": [
    "class Solution:\n",
    "    def hammingWeight(self, n: int) -> int:\n",
    "        return bin(n)[2:].count(\"1\")         # 이진수 0b 식별자 제거"
   ]
  },
  {
   "cell_type": "code",
   "execution_count": null,
   "id": "taken-underwear",
   "metadata": {},
   "outputs": [],
   "source": [
    "class Solution:\n",
    "    def hammingWeight(self, n: int) -> int:\n",
    "        return \"{0:b}\".format(n).count('1')"
   ]
  },
  {
   "cell_type": "markdown",
   "id": "covered-namibia",
   "metadata": {},
   "source": [
    "### 2. 비트 연산\n",
    "\n",
    "* n, n-1과 AND 연산 -> 비트가 1씩 빠짐\n",
    "* AND 연산 횟수 = 1의 개수"
   ]
  },
  {
   "cell_type": "code",
   "execution_count": null,
   "id": "southeast-virtue",
   "metadata": {},
   "outputs": [],
   "source": [
    "class Solution:\n",
    "    def hammingWeight(self, n: int) -> int:\n",
    "        count = 0\n",
    "        while n :\n",
    "            # 1을 뺀 값과 AND 연산 횟수 측정\n",
    "            n &= n-1\n",
    "            count += 1\n",
    "            \n",
    "        return count"
   ]
  },
  {
   "cell_type": "code",
   "execution_count": null,
   "id": "fiscal-consent",
   "metadata": {},
   "outputs": [],
   "source": []
  },
  {
   "cell_type": "code",
   "execution_count": null,
   "id": "athletic-ultimate",
   "metadata": {},
   "outputs": [],
   "source": []
  },
  {
   "cell_type": "markdown",
   "id": "quiet-premises",
   "metadata": {},
   "source": [
    "가장 빠른 풀이\n"
   ]
  },
  {
   "cell_type": "code",
   "execution_count": null,
   "id": "dried-armenia",
   "metadata": {},
   "outputs": [],
   "source": [
    "class Solution:\n",
    "    def hammingWeight(self, n: int) -> int:\n",
    "        m1  = 0x5555555555555555                   # binary: 0101010101...\n",
    "        m2  = 0x3333333333333333                   # binary: 001100110011...\n",
    "        m4  = 0x0f0f0f0f0f0f0f0f                   # binary:  4 zeros,  4 ones ...\n",
    "        \n",
    "        n -= (n >> 1) & m1                         # put count of each 2 bits into those 2 bits \n",
    "        n = (n & m2) + ((n >> 2) & m2)             # put count of each 4 bits into those 4 bits       \n",
    "        n = (n + (n >> 4)) & m4                    # put count of each 8 bits into those 8 bits \n",
    "        return ((n * 0x0101010101010101) & 0xffffffffffffffff ) >> 56"
   ]
  },
  {
   "cell_type": "markdown",
   "id": "cardiovascular-belief",
   "metadata": {},
   "source": [
    "00000000000000000000000000000101\n",
    "\n",
    "01010101010101010101010101010101\n",
    "\n",
    "\n",
    "00000000000000000000000000000101"
   ]
  },
  {
   "cell_type": "code",
   "execution_count": null,
   "id": "ranking-somerset",
   "metadata": {},
   "outputs": [],
   "source": []
  },
  {
   "cell_type": "code",
   "execution_count": null,
   "id": "south-league",
   "metadata": {},
   "outputs": [],
   "source": []
  }
 ],
 "metadata": {
  "kernelspec": {
   "display_name": "Python 3",
   "language": "python",
   "name": "python3"
  },
  "language_info": {
   "codemirror_mode": {
    "name": "ipython",
    "version": 3
   },
   "file_extension": ".py",
   "mimetype": "text/x-python",
   "name": "python",
   "nbconvert_exporter": "python",
   "pygments_lexer": "ipython3",
   "version": "3.7.9"
  }
 },
 "nbformat": 4,
 "nbformat_minor": 5
}
