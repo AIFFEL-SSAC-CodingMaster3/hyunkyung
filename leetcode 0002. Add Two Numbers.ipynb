{
 "cells": [
  {
   "cell_type": "markdown",
   "metadata": {},
   "source": [
    "#### 두 수의 덧셈\n",
    "\n",
    "역순으로 저장된 연결 리스트의 숫자를 더하라.\n",
    "\n",
    "(2->4->3) + (5->6->4)\n",
    "\n",
    "7->0->8"
   ]
  },
  {
   "cell_type": "markdown",
   "metadata": {},
   "source": [
    "1. 입력을 각각 뒤집어서 문자열로 받고 숫자로 변환 -> 계산 -> 다시 연결 리스트에 집어넣기\n",
    "\n",
    "2. 전가산기..??"
   ]
  },
  {
   "cell_type": "code",
   "execution_count": null,
   "metadata": {},
   "outputs": [],
   "source": []
  }
 ],
 "metadata": {
  "kernelspec": {
   "display_name": "Python 3",
   "language": "python",
   "name": "python3"
  },
  "language_info": {
   "codemirror_mode": {
    "name": "ipython",
    "version": 3
   },
   "file_extension": ".py",
   "mimetype": "text/x-python",
   "name": "python",
   "nbconvert_exporter": "python",
   "pygments_lexer": "ipython3",
   "version": "3.7.9"
  }
 },
 "nbformat": 4,
 "nbformat_minor": 4
}
