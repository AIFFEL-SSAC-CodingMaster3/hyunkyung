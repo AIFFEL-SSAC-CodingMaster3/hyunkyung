{
 "cells": [
  {
   "cell_type": "markdown",
   "metadata": {},
   "source": [
    "#### 두 수의 덧셈\n",
    "\n",
    "역순으로 저장된 연결 리스트의 숫자를 더하라.\n",
    "\n",
    "(2->4->3) + (5->6->4)\n",
    "\n",
    "7->0->8"
   ]
  },
  {
   "cell_type": "markdown",
   "metadata": {},
   "source": [
    "1. 입력을 각각 뒤집어서 문자열로 받고 숫자로 변환 -> 계산 -> 다시 연결 리스트에 집어넣기\n",
    "\n",
    "2. 전가산기..??"
   ]
  },
  {
   "cell_type": "code",
   "execution_count": 4,
   "metadata": {},
   "outputs": [],
   "source": [
    "class ListNode:\n",
    "    def __init__(self, val=0, next=None):\n",
    "        self.val = val\n",
    "        self.next = next\n",
    "class Solution:\n",
    "    def addTwoNumbers(self, head: ListNode) -> ListNode:\n",
    "        node, prev = head, None\n",
    "        \n",
    "        while node:\n",
    "            next, node.next = node.next, prev\n",
    "            prev, node = node, next\n",
    "            \n",
    "        return prev\n",
    "    \n",
    "    def toList(self, node: ListNode) -> ListNode:\n",
    "        list: List = []\n",
    "        while node:\n",
    "            list.append(node.val)\n",
    "            node = node.next\n",
    "        return list\n",
    "    \n",
    "    # 파이썬 리스트를 연결 리스트로 변환\n",
    "    def toReverseLinkedList(self, result: ListNode) -> ListNode:\n",
    "        prev: ListNode = None\n",
    "        for r in result:\n",
    "            node = ListNode(r)\n",
    "            node.next = prev\n",
    "            prev = node\n",
    "            \n",
    "        return node\n",
    "    \n",
    "    # 두 연결 리스트의 덧셈\n",
    "    def addTwoNumbers(self, l1: ListNode, l2: ListNode) -> ListNode:\n",
    "        a = self.toList(self.reverseList(l1))\n",
    "        b = self.toList(self.reverseList(l2))\n",
    "        \n",
    "        resultStr = int(''.join(str(e) for e in a)) + int(''.join(str(e) for e in b))\n",
    "        \n",
    "        \n",
    "        #최종 계산 결과 연결 리스트로 변환\n",
    "        return self.toReverseLinkedList(str(resultStr))\n",
    "            "
   ]
  },
  {
   "cell_type": "code",
   "execution_count": 6,
   "metadata": {},
   "outputs": [],
   "source": [
    "class ListNode:\n",
    "    def __init__(self, val=0, next=None):\n",
    "        self.val = val\n",
    "        self.next = next\n",
    "class Solution:\n",
    "    def addTwoNumbers(self, l1: ListNode, l2: ListNode) -> ListNode:\n",
    "        root = head = ListNode(0)\n",
    "    \n",
    "        carry = 0\n",
    "        while l1 or l2 or carry:\n",
    "            sum = 0\n",
    "        \n",
    "            # 두 입력값의 합 계산\n",
    "            if l1:\n",
    "                sum += l1.val\n",
    "                l1 = l1.next\n",
    "            \n",
    "            if l2:\n",
    "                sum += l2.val\n",
    "                l2 = l2.next\n",
    "            \n",
    "            # 몫(자리올림수)과 나머지(값) 계산\n",
    "            carry, val = divmod(sum + carry, 10)\n",
    "            head.next = ListNode(val)\n",
    "            head = head.next\n",
    "        \n",
    "        return root.next"
   ]
  },
  {
   "cell_type": "code",
   "execution_count": null,
   "metadata": {},
   "outputs": [],
   "source": []
  }
 ],
 "metadata": {
  "kernelspec": {
   "display_name": "Python 3",
   "language": "python",
   "name": "python3"
  },
  "language_info": {
   "codemirror_mode": {
    "name": "ipython",
    "version": 3
   },
   "file_extension": ".py",
   "mimetype": "text/x-python",
   "name": "python",
   "nbconvert_exporter": "python",
   "pygments_lexer": "ipython3",
   "version": "3.7.9"
  }
 },
 "nbformat": 4,
 "nbformat_minor": 4
}
