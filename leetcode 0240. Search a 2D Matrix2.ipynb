{
 "cells": [
  {
   "cell_type": "markdown",
   "id": "banner-liechtenstein",
   "metadata": {},
   "source": [
    "# 2D 행렬 검색 2\n",
    "\n",
    "### mxn 행렬에서 값을 찾아내는 효율적인 알고리즘을 구현하라. 행렬은 왼쪽에서 오른쪽, 위에서 아래 오름차순으로 정렬되어 있다.\n",
    "\n",
    "![1](1.png)\n",
    "\n",
    "Input: matrix = [[1,4,7,11,15],   \n",
    "                 [2,5,8,12,19],  \n",
    "                 [3,6,9,16,22],  \n",
    "                 [10,13,14,17,24],  \n",
    "                 [18,21,23,26,30]],   \n",
    "target = 5      \n",
    "Output: true     \n",
    "\n",
    "\n",
    "\n",
    "### 첫 행의 맨 뒤에서 검색\n",
    "행을 기준으로 이진 검색을 수행한 다 음 찾아낸 값을 기준으로 해당 위치의 각 행을 기준으로 다시 이진 검색을 수행   \n",
    "첫행의 맨 뒤 요소를 택한 다음 타겟이 이보다 작으면 왼쪽으로, 크면 아래로 이동하게 하는 방법."
   ]
  },
  {
   "cell_type": "code",
   "execution_count": null,
   "id": "healthy-excerpt",
   "metadata": {},
   "outputs": [],
   "source": [
    "class Solution:\n",
    "    def searchMatrix(self, matrix: List[List[int]], target: int) -> bool:\n",
    "        # 예외 처리\n",
    "        if not matrix:\n",
    "            return False\n",
    "        \n",
    "        # 첫 행의 맨 뒤\n",
    "        row = 0\n",
    "        col = len(matrix[0]) - 1\n",
    "        \n",
    "        while row <= len(matrix) -1 and col >= 0:\n",
    "            if target == matrix[row][col]:\n",
    "                return True\n",
    "            \n",
    "            # 타겟이 작으면 왼쪽으로 이동\n",
    "            elif target < matrix[row][col]:\n",
    "                col -= 1\n",
    "                \n",
    "            # 타겟이 크면 아래로 이동\n",
    "            elif target > matrix[row][col]:\n",
    "                row += 1\n",
    "                \n",
    "        return False"
   ]
  },
  {
   "cell_type": "code",
   "execution_count": null,
   "id": "relative-alloy",
   "metadata": {},
   "outputs": [],
   "source": [
    "class Solution:\n",
    "    def searchMatrix(self, matrix: List[List[int]], target: int) -> bool:\n",
    "        return any(target in row for row in matrix)\n",
    "    \n",
    "    \n",
    "    # any : 포함된 값 중 어느 하나가 참이라면 항상 참으로 출력. 논리 연산의 OR 역할."
   ]
  }
 ],
 "metadata": {
  "kernelspec": {
   "display_name": "Python 3",
   "language": "python",
   "name": "python3"
  },
  "language_info": {
   "codemirror_mode": {
    "name": "ipython",
    "version": 3
   },
   "file_extension": ".py",
   "mimetype": "text/x-python",
   "name": "python",
   "nbconvert_exporter": "python",
   "pygments_lexer": "ipython3",
   "version": "3.7.9"
  }
 },
 "nbformat": 4,
 "nbformat_minor": 5
}
