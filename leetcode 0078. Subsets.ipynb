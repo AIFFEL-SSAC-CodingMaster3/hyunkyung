{
 "cells": [
  {
   "cell_type": "markdown",
   "id": "brutal-picking",
   "metadata": {},
   "source": [
    "## 모든 부분 집합을 리턴하라\n",
    "\n",
    "입력 : nums = [1, 2, 3]     \n",
    "\n",
    "출력 : [[],[1],[2],[1,2],[3],[1,3],[2,3],[1,2,3]]"
   ]
  },
  {
   "cell_type": "markdown",
   "id": "designing-kingdom",
   "metadata": {},
   "source": [
    "#### Runtime: 32 ms"
   ]
  },
  {
   "cell_type": "code",
   "execution_count": null,
   "id": "civilian-guitar",
   "metadata": {},
   "outputs": [],
   "source": [
    "class Solution:\n",
    "    def subsets(self, nums: List[int]) -> List[List[int]]:\n",
    "        result = []\n",
    "        \n",
    "        def dfs(index, path):\n",
    "            \n",
    "            # 매번 결과 추가\n",
    "            result.append(path)\n",
    "            \n",
    "            for i in range(index, len(nums)):\n",
    "                dfs(i+1, path + [nums[i]])\n",
    "                \n",
    "        \n",
    "        dfs(0, [])\n",
    "        return result\n",
    "            "
   ]
  },
  {
   "cell_type": "markdown",
   "id": "printable-processing",
   "metadata": {},
   "source": [
    "#### Runtime: 12 ms"
   ]
  },
  {
   "cell_type": "code",
   "execution_count": null,
   "id": "posted-boundary",
   "metadata": {},
   "outputs": [],
   "source": [
    "class Solution:\n",
    "         \n",
    "    def subsets(self, nums: List[int]) -> List[List[int]]:\n",
    "        # You start with a list that contains one empty list (null subset)\n",
    "        power_set = [[]]\n",
    "        for num in nums:\n",
    "            power_set += [subset + [num] for subset in power_set]\n",
    "            \n",
    "        return power_set"
   ]
  },
  {
   "cell_type": "markdown",
   "id": "known-difference",
   "metadata": {},
   "source": [
    "#### Runtime: 16 ms"
   ]
  },
  {
   "cell_type": "code",
   "execution_count": null,
   "id": "oriental-accessory",
   "metadata": {},
   "outputs": [],
   "source": [
    "class Solution:\n",
    "    def subsets(self, nums: List[int]) -> List[List[int]]:\n",
    "        result = [[]]\n",
    "        for n in nums:\n",
    "            for i in range(len(result)):\n",
    "                result.append(result[i]+[n])\n",
    "        return result"
   ]
  },
  {
   "cell_type": "markdown",
   "id": "fitting-photograph",
   "metadata": {},
   "source": [
    "#### Runtime: 20 ms"
   ]
  },
  {
   "cell_type": "code",
   "execution_count": null,
   "id": "removable-brick",
   "metadata": {},
   "outputs": [],
   "source": [
    "class Solution:\n",
    "    def subsets(self, nums: List[int]) -> List[List[int]]:\n",
    "        l = len(nums)\n",
    "        ans = []\n",
    "        for n in range(2**l):\n",
    "            cur = []\n",
    "            mask = bin(n)[2:]\n",
    "            offset = l - len(mask)\n",
    "            for i, m in enumerate(mask):\n",
    "                if m == \"1\": cur.append(nums[i + offset])\n",
    "            ans.append(cur)\n",
    "        return ans"
   ]
  },
  {
   "cell_type": "markdown",
   "id": "oriental-concentrate",
   "metadata": {},
   "source": [
    "#### Runtime: 24 ms"
   ]
  },
  {
   "cell_type": "code",
   "execution_count": null,
   "id": "perfect-vertex",
   "metadata": {},
   "outputs": [],
   "source": [
    "class Solution:\n",
    "    def subsets(self, nums: List[int]) -> List[List[int]]:\n",
    "        \n",
    "        output =  [[]]\n",
    "        for num in nums: \n",
    "            #output += [curr + [num] for curr in output]\n",
    "            opt = []\n",
    "            for curr in output:\n",
    "                opt += [curr + [num]]\n",
    "                #print(curr)\n",
    "            output.extend(opt)\n",
    "        return output"
   ]
  },
  {
   "cell_type": "code",
   "execution_count": null,
   "id": "adjacent-durham",
   "metadata": {},
   "outputs": [],
   "source": []
  },
  {
   "cell_type": "code",
   "execution_count": null,
   "id": "legal-disposition",
   "metadata": {},
   "outputs": [],
   "source": []
  },
  {
   "cell_type": "code",
   "execution_count": null,
   "id": "detailed-blond",
   "metadata": {},
   "outputs": [],
   "source": []
  },
  {
   "cell_type": "code",
   "execution_count": null,
   "id": "international-martin",
   "metadata": {},
   "outputs": [],
   "source": []
  }
 ],
 "metadata": {
  "kernelspec": {
   "display_name": "Python 3",
   "language": "python",
   "name": "python3"
  },
  "language_info": {
   "codemirror_mode": {
    "name": "ipython",
    "version": 3
   },
   "file_extension": ".py",
   "mimetype": "text/x-python",
   "name": "python",
   "nbconvert_exporter": "python",
   "pygments_lexer": "ipython3",
   "version": "3.7.9"
  }
 },
 "nbformat": 4,
 "nbformat_minor": 5
}
