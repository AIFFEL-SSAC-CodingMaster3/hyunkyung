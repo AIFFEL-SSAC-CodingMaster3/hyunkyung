{
 "cells": [
  {
   "cell_type": "markdown",
   "metadata": {},
   "source": [
    "#### 팰린드롬 연결 리스트\n",
    "\n",
    "연결리스트가 팰린드롬 구조인지 판별하라\n",
    "   \n",
    "1-> 2-> 2-> 1   \n",
    "True"
   ]
  },
  {
   "cell_type": "markdown",
   "metadata": {},
   "source": [
    "1. 자료구조 큐 이용\n",
    "링크드리스트를 큐 리스트로 변환해준 다음 pop 해서 끝에꺼 뽑아서 첫번째꺼랑 비교  \n",
    " -> 파이썬의 리스트는 인덱스를 지정해서 pop이 가능..! 첫번째(0번째) 인덱스를 지정해준 다음 비교\n",
    "\n",
    "2. 자료구조 데크 이용\n",
    "링크드리스트를 데크로 변환해준 다음 양쪽에서 뽑아서 계속 비교\n",
    "같으면 true 반환\n",
    "\n",
    "3. 런너?!??"
   ]
  },
  {
   "cell_type": "markdown",
   "metadata": {},
   "source": [
    "1."
   ]
  },
  {
   "cell_type": "code",
   "execution_count": 10,
   "metadata": {},
   "outputs": [],
   "source": [
    "class ListNode:\n",
    "    def __init__(self, val=0, next=None):\n",
    "        self.val = val\n",
    "        self.next = next\n",
    "\n",
    "class Solution:\n",
    "    def isPalindrome(self, head: ListNode) -> bool:\n",
    "        qlist = []           \n",
    "        \n",
    "        if not head:       # head가 아니면 True 반환. 다 돌았다는 뜻이니까\n",
    "            return True\n",
    "        \n",
    "        node = head        # head가 노드를 가리키도록\n",
    "        \n",
    "        while node != None:    # 노드가 None이 아니라면\n",
    "            qlist.append(node.val)     # 노드의 값을 qlist에 넣어줍니다\n",
    "            node = node.next           # 다음 노드로 넘어가\n",
    "            \n",
    "        while len(q) > 1:\n",
    "            if q.pop(0) != q.pop():\n",
    "                return False\n",
    "        return True"
   ]
  },
  {
   "cell_type": "markdown",
   "metadata": {},
   "source": [
    "2."
   ]
  },
  {
   "cell_type": "code",
   "execution_count": 9,
   "metadata": {},
   "outputs": [],
   "source": [
    "class ListNode:\n",
    "    def __init__(self, val=0, next=None):\n",
    "        self.val = val\n",
    "        self.next = next\n",
    "\n",
    "class Solution:\n",
    "    def isPalindrome(self, head: ListNode) -> bool:\n",
    "        qDeque = collections.deque()\n",
    "        \n",
    "        if not head:\n",
    "            return True\n",
    "        \n",
    "        node = head\n",
    "        \n",
    "        while node != None:\n",
    "            qDeque.append(node.val)\n",
    "            node = node.next\n",
    "            \n",
    "        while len(qDeque) > 1:\n",
    "            if qDeque.popleft() != qDeque.pop():\n",
    "                return False\n",
    "            \n",
    "        return True\n",
    "        "
   ]
  },
  {
   "cell_type": "code",
   "execution_count": 11,
   "metadata": {},
   "outputs": [],
   "source": [
    "class ListNode:\n",
    "    def __init__(self, val=0, next=None):\n",
    "        self.val = val\n",
    "        self.next = next\n",
    "\n",
    "class Solution:\n",
    "    def isPalindrome(self, head: ListNode) -> bool:\n",
    "        s=[]\n",
    "        org=[]\n",
    "        while head:\n",
    "            s+=[str(head.val)]\n",
    "            head = head.next\n",
    "        return s == list(reversed(s))\n",
    "            "
   ]
  },
  {
   "cell_type": "code",
   "execution_count": null,
   "metadata": {},
   "outputs": [],
   "source": [
    "class ListNode:\n",
    "    def __init__(self, val=0, next=None):\n",
    "        self.val = val\n",
    "        self.next = next\n",
    "\n",
    "class Solution:\n",
    "    def isPalindrome(self, head: ListNode) -> bool:\n",
    "        rev = None\n",
    "        slow = fast = head\n",
    "        \n",
    "        # 역순 링크드리스트 구성\n",
    "        while fast and fast.next:\n",
    "            fast = fast.next.next\n",
    "            rev, rev.next, slow = slow, rev, slow.next\n",
    "        if fast:\n",
    "            slow = slow.next\n",
    "            \n",
    "        # 팰린드롬 여부 확인\n",
    "        while rev and rev.val == slow.val:\n",
    "            slow, rev = slow.next, rev.next\n",
    "            \n",
    "        return not rev"
   ]
  },
  {
   "cell_type": "code",
   "execution_count": null,
   "metadata": {},
   "outputs": [],
   "source": []
  },
  {
   "cell_type": "code",
   "execution_count": null,
   "metadata": {},
   "outputs": [],
   "source": []
  },
  {
   "cell_type": "code",
   "execution_count": null,
   "metadata": {},
   "outputs": [],
   "source": []
  }
 ],
 "metadata": {
  "kernelspec": {
   "display_name": "Python 3",
   "language": "python",
   "name": "python3"
  },
  "language_info": {
   "codemirror_mode": {
    "name": "ipython",
    "version": 3
   },
   "file_extension": ".py",
   "mimetype": "text/x-python",
   "name": "python",
   "nbconvert_exporter": "python",
   "pygments_lexer": "ipython3",
   "version": "3.7.9"
  }
 },
 "nbformat": 4,
 "nbformat_minor": 4
}
