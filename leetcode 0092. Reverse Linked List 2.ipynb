{
 "cells": [
  {
   "cell_type": "markdown",
   "metadata": {},
   "source": [
    "#### 역순 연결 리스트 2\n",
    "\n",
    "인덱스 m에서 n까지를 역순으로 만들어라. 인덱스 m은 1부터 시작한다."
   ]
  },
  {
   "cell_type": "code",
   "execution_count": 1,
   "metadata": {},
   "outputs": [],
   "source": [
    "class ListNode:\n",
    "    def __init__(self, val=0, next=None):\n",
    "        self.val = val\n",
    "        self.next = next\n",
    "class Solution:\n",
    "    def reverseBetween(self, head: ListNode, m: int, n: int) -> ListNode:\n",
    "        #예외 처리\n",
    "        if not head or m == n:\n",
    "            return head\n",
    "        \n",
    "        root = start = ListNode(None)\n",
    "        root.next = head\n",
    "        # start, end 지정\n",
    "        for _ in range(m-1):\n",
    "            start = start.next\n",
    "            \n",
    "        end = start.next\n",
    "        \n",
    "        # 반복하면서 노드 차례대로 뒤집기\n",
    "        for _ in range(n-m):\n",
    "            t,p, start.next, end.next = start.next, end.next, end.next.next\n",
    "            start.next.next = tmp\n",
    "        return root.next"
   ]
  },
  {
   "cell_type": "code",
   "execution_count": null,
   "metadata": {},
   "outputs": [],
   "source": []
  }
 ],
 "metadata": {
  "kernelspec": {
   "display_name": "Python 3",
   "language": "python",
   "name": "python3"
  },
  "language_info": {
   "codemirror_mode": {
    "name": "ipython",
    "version": 3
   },
   "file_extension": ".py",
   "mimetype": "text/x-python",
   "name": "python",
   "nbconvert_exporter": "python",
   "pygments_lexer": "ipython3",
   "version": "3.7.9"
  }
 },
 "nbformat": 4,
 "nbformat_minor": 4
}
