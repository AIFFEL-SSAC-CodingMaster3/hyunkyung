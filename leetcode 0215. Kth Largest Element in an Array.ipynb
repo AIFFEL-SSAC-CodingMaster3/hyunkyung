{
 "cells": [
  {
   "cell_type": "markdown",
   "id": "integral-moscow",
   "metadata": {},
   "source": [
    "## 힙\n",
    "\n",
    "\n",
    "### 힙 : 힙의 특성을 만족하는 거의 완전한 트리인 특수한 트리 기반의 자료 구조\n",
    "\n",
    "![1](heap1.png)\n",
    "\n",
    "* 우선 순위 큐를 사용할 때 매번 활용했던 heapq 모듈이 힙으로 구현되어 있음.\n",
    "* 파이썬에서는 최소 힙만 구현되어 있음.\n",
    "* 최소 힙은 부모가 항상 자식보다 작기 때문에 루트가 결국 가장 작은 값을 가짐\n",
    "* 우선순위 큐는 주로 힙으로 구현하고, 힙은 주로 배열로 구현함.\n",
    "* 힙은 정렬된 구조가 아님. 오른쪽의 자식 노드가 레벨 차이에도 불구하고 왼쪽 노드보다 더 작을 수도 있다.\n",
    "* 자식이 둘인 힙은 특별히 이진 힙(binary heap)이라고 한다.\n",
    "* 계산을 편하게 하기 위해 인덱스는 1부터 사용한다.\n",
    "\n",
    "\n",
    "### 힙 연산\n",
    "\n",
    "#### 삽입\n",
    "![2](heap2.png)\n",
    "\n",
    "* 업힙(Up-Heap) 연산을 수행해야 한다.\n",
    "* 업힙 연산은 일반적으로 percolate_up()이라는 함수로 정의한다.\n",
    "1. 요소를 가장 하위 레벨의 최대한 왼쪽으로 삽입한다. (배열로 표현할 경우 가장 마지막에 삽입한다.)\n",
    "2. 부모 값과 비교해 값이 더 작은 경우 위치를 변경한다.\n",
    "3. 계속해서 부모 값과 비교해 위치를 변경한다. (가장 작은 값일 경우 루트까지 올라감.)\n",
    "* 삽입 자체는 insert() 함수를 호출해 실행."
   ]
  },
  {
   "cell_type": "code",
   "execution_count": 6,
   "id": "saving-renewal",
   "metadata": {},
   "outputs": [],
   "source": [
    "def _percolate_up(self):\n",
    "    i = len(self)       # 가장 하위 레벨 노드의 인덱스 \n",
    "    parent = i // 2\n",
    "    while parent >= 0:\n",
    "        if self.items[i] < self.items[parent]:\n",
    "            self.items[parent], self.items[i] = self.items[i], self.items[parent]\n",
    "        i = parent\n",
    "        parent = i // 2\n",
    "\n",
    "# 파이썬 heap 모듈의 heapq.heappush()에 대응됨\n",
    "def insert(self, k):\n",
    "    self.items.append(k)    # k라는 요소를 append\n",
    "    self._percolate_up()"
   ]
  },
  {
   "cell_type": "markdown",
   "id": "dying-pension",
   "metadata": {},
   "source": [
    "#### 추출\n",
    "![3](heap3.png)\n",
    "* 루트를 추출하면 됨.\n",
    "* 다만 힙의 특성을 유지해야하므로 시간 복잡도는 O(logn)\n",
    "* 루트 추출 이후에 비어있는 루트에는 가장 마지막 요소가 올라가게 되고 \n",
    "* 자식노드와 값을 비교해서 자식보다 크다면 내려가는 다운힙(Down-heap) 연산이 수행된다.\n"
   ]
  },
  {
   "cell_type": "code",
   "execution_count": 7,
   "id": "formed-finance",
   "metadata": {},
   "outputs": [],
   "source": [
    "def _percolate_down(self, idx):     \n",
    "    left = idx * 2\n",
    "    right = idx * 2 + 1\n",
    "    smallest = idx\n",
    "    \n",
    "    if left <= len(self) and self.items[left] < self.items[smallest]:\n",
    "        smallest = left\n",
    "        \n",
    "    if right <= len(self) and self.items[right] < self.items[smallest]:\n",
    "        smallest = right\n",
    "        \n",
    "    if smallest != idx:\n",
    "        self.items[idx], self.items[smallest] = self.items[smallest], self.items[idx]\n",
    "        self._percolate_down(smallest)\n",
    "        \n",
    "# 파이썬 heap 모듈의 heapq.heappop()에 대응됨\n",
    "def extract(self):\n",
    "    extracted = self.items[1]\n",
    "    self.items[1] = self.items[len(self)]\n",
    "    self.items.pop()\n",
    "    self._percolate_down(1)\n",
    "    return extracted"
   ]
  },
  {
   "cell_type": "markdown",
   "id": "based-processor",
   "metadata": {},
   "source": [
    "## 배열의 K번째 큰 요소\n",
    "\n",
    "#### 정렬되지 않은 배열에서 k번째 큰 요소를 추출하라.\n",
    "\n",
    "Input: nums = [3,2,1,5,6,4], k = 2   \n",
    "Output: 5   \n",
    "\n",
    "Input: nums = [3,2,3,1,2,4,5,5,6], k = 4    \n",
    "Output: 4   "
   ]
  },
  {
   "cell_type": "markdown",
   "id": "planned-bench",
   "metadata": {},
   "source": [
    "### heapq 모듈 이용"
   ]
  },
  {
   "cell_type": "code",
   "execution_count": 2,
   "id": "protecting-copper",
   "metadata": {},
   "outputs": [],
   "source": [
    "from typing import List\n",
    "class Solution:\n",
    "    def findKthLargest(self, nums: List[int], k: int) -> int:\n",
    "        heap = list()\n",
    "        for n in nums:\n",
    "            heapq.heappush(heap, -n)\n",
    "            \n",
    "        for _ in range(k):\n",
    "            heapq.heappop(heap)\n",
    "            \n",
    "        return -heap.heappop(heap)"
   ]
  },
  {
   "cell_type": "markdown",
   "id": "balanced-flour",
   "metadata": {},
   "source": [
    "### heapq 모듈의 heapify 이용"
   ]
  },
  {
   "cell_type": "code",
   "execution_count": 3,
   "id": "aggressive-orange",
   "metadata": {},
   "outputs": [],
   "source": [
    "class Solution:\n",
    "    def findKthLargest(self, nums: List[int], k: int) -> int:\n",
    "        heapq.heapify(nums)\n",
    "        \n",
    "        for _ in range(len(nums) - k):\n",
    "            heapq.heappop(nums)\n",
    "            \n",
    "        return heapq.heappop(nums)"
   ]
  },
  {
   "cell_type": "markdown",
   "id": "elegant-variety",
   "metadata": {},
   "source": [
    "### heapq 모듈의 nlargest 이용"
   ]
  },
  {
   "cell_type": "code",
   "execution_count": 4,
   "id": "awful-peace",
   "metadata": {},
   "outputs": [],
   "source": [
    "class Solution:\n",
    "    def findKthLargest(self, nums: List[int], k: int) -> int:\n",
    "        return heapq.nlargest(k, nums)[-1]"
   ]
  },
  {
   "cell_type": "markdown",
   "id": "manufactured-cigarette",
   "metadata": {},
   "source": [
    "### 정렬을 이용한 풀이"
   ]
  },
  {
   "cell_type": "code",
   "execution_count": 5,
   "id": "vital-belize",
   "metadata": {},
   "outputs": [],
   "source": [
    "class Solution:\n",
    "    def findKthLargest(self, nums: List[int], k: int) -> int:\n",
    "        return sorted(nums, reverse=True)[k-1]"
   ]
  },
  {
   "cell_type": "markdown",
   "id": "driving-andorra",
   "metadata": {},
   "source": [
    "### 가장 빠른 풀이 = 정렬"
   ]
  },
  {
   "cell_type": "code",
   "execution_count": null,
   "id": "sporting-hostel",
   "metadata": {},
   "outputs": [],
   "source": [
    "class Solution:\n",
    "    def findKthLargest(self, nums: List[int], k: int) -> int:\n",
    "        nums.sort()\n",
    "        return nums[-k]"
   ]
  },
  {
   "cell_type": "code",
   "execution_count": null,
   "id": "lovely-tuning",
   "metadata": {},
   "outputs": [],
   "source": []
  }
 ],
 "metadata": {
  "kernelspec": {
   "display_name": "Python 3",
   "language": "python",
   "name": "python3"
  },
  "language_info": {
   "codemirror_mode": {
    "name": "ipython",
    "version": 3
   },
   "file_extension": ".py",
   "mimetype": "text/x-python",
   "name": "python",
   "nbconvert_exporter": "python",
   "pygments_lexer": "ipython3",
   "version": "3.7.9"
  }
 },
 "nbformat": 4,
 "nbformat_minor": 5
}
