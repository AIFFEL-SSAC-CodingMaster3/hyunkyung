{
 "cells": [
  {
   "cell_type": "markdown",
   "id": "proper-metro",
   "metadata": {},
   "source": [
    "# 두 배열의 교집합\n",
    "\n",
    "### Given two integer arrays nums1 and nums2, return an array of their intersection. Each element in the result must be unique and you may return the result in any order.\n",
    "### 두 배열의 교집합을 구하라\n",
    "\n",
    "Input: nums1 = [1,2,2,1], nums2 = [2,2]    \n",
    "Output: [2]    \n",
    "\n",
    "\n",
    "Input: nums1 = [4,9,5], nums2 = [9,4,9,8,4]   \n",
    "Output: [9,4]   \n",
    "Explanation: [4,9] is also accepted.   "
   ]
  },
  {
   "cell_type": "code",
   "execution_count": null,
   "id": "reduced-carpet",
   "metadata": {},
   "outputs": [],
   "source": [
    "class Solution:\n",
    "    def intersection(self, nums1: List[int], nums2: List[int]) -> List[int]:\n",
    "        result: Set = set()\n",
    "        for n1 in nums1:\n",
    "            for n2 in nums2:\n",
    "                if n1 == n2:\n",
    "                    result.add(n1)\n",
    "                    \n",
    "        return result "
   ]
  },
  {
   "cell_type": "markdown",
   "id": "electrical-sampling",
   "metadata": {},
   "source": [
    "### 이진 탐색 \n",
    "\n",
    ": 한쪽은 순서대로 탐색하고 다른쪽은 정렬해서 이진 검색"
   ]
  },
  {
   "cell_type": "code",
   "execution_count": null,
   "id": "handed-cleaner",
   "metadata": {},
   "outputs": [],
   "source": [
    "class Solution:\n",
    "    def intersection(self, nums1: List[int], nums2: List[int]) -> List[int]:\n",
    "        result: Set = set()\n",
    "        nums2.sort()\n",
    "        for n1 in nums1:\n",
    "            i2 = bisect.bisect_left(nums2, n1)       # nums2를 탐색해서 n1을 찾아라. n1은 찾고자 하는 수. \n",
    "            if len(nums2) > 0 and len(nums2) > i2 and n1 == nums2[i2]:\n",
    "                result.add(n1)\n",
    "                \n",
    "        return result"
   ]
  },
  {
   "cell_type": "code",
   "execution_count": null,
   "id": "verified-company",
   "metadata": {},
   "outputs": [],
   "source": []
  },
  {
   "cell_type": "code",
   "execution_count": null,
   "id": "mexican-edmonton",
   "metadata": {},
   "outputs": [],
   "source": []
  },
  {
   "cell_type": "code",
   "execution_count": null,
   "id": "parliamentary-hostel",
   "metadata": {},
   "outputs": [],
   "source": []
  },
  {
   "cell_type": "code",
   "execution_count": null,
   "id": "skilled-subject",
   "metadata": {},
   "outputs": [],
   "source": []
  },
  {
   "cell_type": "code",
   "execution_count": null,
   "id": "controlled-allah",
   "metadata": {},
   "outputs": [],
   "source": []
  },
  {
   "cell_type": "code",
   "execution_count": null,
   "id": "lined-adjustment",
   "metadata": {},
   "outputs": [],
   "source": []
  },
  {
   "cell_type": "code",
   "execution_count": null,
   "id": "stretch-peeing",
   "metadata": {},
   "outputs": [],
   "source": []
  },
  {
   "cell_type": "code",
   "execution_count": null,
   "id": "shaped-bachelor",
   "metadata": {},
   "outputs": [],
   "source": []
  }
 ],
 "metadata": {
  "kernelspec": {
   "display_name": "Python 3",
   "language": "python",
   "name": "python3"
  },
  "language_info": {
   "codemirror_mode": {
    "name": "ipython",
    "version": 3
   },
   "file_extension": ".py",
   "mimetype": "text/x-python",
   "name": "python",
   "nbconvert_exporter": "python",
   "pygments_lexer": "ipython3",
   "version": "3.7.9"
  }
 },
 "nbformat": 4,
 "nbformat_minor": 5
}
