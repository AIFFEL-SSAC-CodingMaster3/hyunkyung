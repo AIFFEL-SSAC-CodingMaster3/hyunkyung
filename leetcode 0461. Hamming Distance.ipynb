{
 "cells": [
  {
   "cell_type": "markdown",
   "id": "previous-victorian",
   "metadata": {},
   "source": [
    "# 해밍 거리\n",
    ": 두 정수 또는 두 문자열의 차이  \n",
    "\n",
    "### 두 정수를 입력받아 몇 비트가 다른지 계산하라.\n",
    "\n",
    "Input: x = 1, y = 4   \n",
    "Output: 2   \n",
    "\n",
    "Explanation:    \n",
    "1   (0 0 0 1)   \n",
    "4   (0 1 0 0)    \n",
    "       ↑   ↑     \n",
    "The above arrows point to positions where the corresponding bits are different.   \n",
    "\n",
    "\n",
    "Input: x = 3, y = 1   \n",
    "Output: 1   "
   ]
  },
  {
   "cell_type": "code",
   "execution_count": null,
   "id": "prostate-parker",
   "metadata": {},
   "outputs": [],
   "source": [
    "class Solution:\n",
    "    def hammingDistance(self, x: int, y: int) -> int:\n",
    "        return bin(x ^ y).count('1')      # x랑 y xor 연산, bin -> 2진수로 변경, 1 개수(False) 세기."
   ]
  }
 ],
 "metadata": {
  "kernelspec": {
   "display_name": "Python 3",
   "language": "python",
   "name": "python3"
  },
  "language_info": {
   "codemirror_mode": {
    "name": "ipython",
    "version": 3
   },
   "file_extension": ".py",
   "mimetype": "text/x-python",
   "name": "python",
   "nbconvert_exporter": "python",
   "pygments_lexer": "ipython3",
   "version": "3.7.9"
  }
 },
 "nbformat": 4,
 "nbformat_minor": 5
}
