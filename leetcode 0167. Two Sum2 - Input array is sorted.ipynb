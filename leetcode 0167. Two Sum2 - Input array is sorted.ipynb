{
 "cells": [
  {
   "cell_type": "markdown",
   "id": "computational-mortality",
   "metadata": {},
   "source": [
    "# 두 수의 합 2\n",
    "\n",
    "### 정렬된 배열을 받아 덧셈하여 타겟을 만들 수 있는 배열의 두 숫자 인덱스를 리턴하라. \n",
    "\n",
    "*** 주의 : 이 문제에서 배열은 0이 아닌 1부터 시작하는 것으로 한다 \n",
    "\n",
    "Input: numbers = [2,7,11,15], target = 9    \n",
    "Output: [1,2]    \n",
    "Explanation: The sum of 2 and 7 is 9. Therefore index1 = 1, index2 = 2.   \n",
    "\n",
    "Input: numbers = [2,3,4], target = 6   \n",
    "Output: [1,3]    \n",
    "\n",
    "Input: numbers = [-1,0], target = -1    \n",
    "Output: [1,2]"
   ]
  },
  {
   "cell_type": "code",
   "execution_count": null,
   "id": "comic-controversy",
   "metadata": {},
   "outputs": [],
   "source": [
    "class Solution:\n",
    "    def twoSum(self, numbers: List[int], target: int) -> List[int]:\n",
    "        for k, v in enumerate(numbers):\n",
    "            expected = target - v\n",
    "            i = bisect.bisect_left(numbers[k+1:], expected)  # k 이후 인덱스부터의 numbers에서 expected를 이진탐색으로 찾기\n",
    "            if i < len(numbers[k+1:]) and numbers[i+k+1] == expected:\n",
    "                return k+1, i+k+1+1"
   ]
  },
  {
   "cell_type": "markdown",
   "id": "fifth-commonwealth",
   "metadata": {},
   "source": [
    " ->겁나 느림\n",
    " \n",
    " \n",
    "* bisect.bisect_left(a, x, lo=0, hi=len(a))\n",
    "* lo -> 왼쪽 범위를 제한할 수 있음"
   ]
  },
  {
   "cell_type": "code",
   "execution_count": null,
   "id": "prompt-effort",
   "metadata": {},
   "outputs": [],
   "source": [
    "class Solution:\n",
    "    def twoSum(self, numbers: List[int], target: int) -> List[int]:\n",
    "        for k, v in enumerate(numbers):\n",
    "            expected = target - v\n",
    "            i = bisect.bisect_left(numbers, expected, k+1)  # 슬라이싱 안해도 됨.\n",
    "            if i < len(numbers) and numbers[i] == expected:\n",
    "                return k+1, i+1"
   ]
  }
 ],
 "metadata": {
  "kernelspec": {
   "display_name": "Python 3",
   "language": "python",
   "name": "python3"
  },
  "language_info": {
   "codemirror_mode": {
    "name": "ipython",
    "version": 3
   },
   "file_extension": ".py",
   "mimetype": "text/x-python",
   "name": "python",
   "nbconvert_exporter": "python",
   "pygments_lexer": "ipython3",
   "version": "3.7.9"
  }
 },
 "nbformat": 4,
 "nbformat_minor": 5
}
