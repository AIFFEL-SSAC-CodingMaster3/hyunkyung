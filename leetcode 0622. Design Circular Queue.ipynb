{
 "cells": [
  {
   "cell_type": "markdown",
   "metadata": {},
   "source": [
    "# 원형 큐 디자인\n",
    "---\n",
    "\n",
    "원형 큐를 디자인하라\n",
    "\n",
    "\n",
    "My CircularQueue circularQueue = new MyCircularQueue(5); // 크기를 5로 저장    \n",
    "circularQueue.enQueue(10);  // true 리턴   \n",
    "circularQueue.enQueue(20);  // true 리턴   \n",
    "circularQueue.enQueue(30);  // true 리턴   \n",
    "circularQueue.enQueue(40);  // true 리턴   \n",
    "circularQueue.Rear();  // 40 리턴   \n",
    "circularQueue.isFull();  // false 리턴   \n",
    "circularQueue.deQueue();  // true 리턴  \n",
    "circularQueue.deQueue();  // true 리턴   \n",
    "circularQueue.enQueue(50);  // true 리턴   \n",
    "circularQueue.enQueue(60);  // true 리턴  \n",
    "circularQueue.Rear();  // 60 리턴  \n",
    "circularQueue.Front();  // 30 리턴   "
   ]
  },
  {
   "cell_type": "code",
   "execution_count": null,
   "metadata": {},
   "outputs": [],
   "source": [
    "class MyCircularQueue:\n",
    "\n",
    "    def __init__(self, k: int):\n",
    "        self.len = [None] * k\n",
    "        self.maxlen = k\n",
    "        self.front = 0\n",
    "        self.rear = 0\n",
    "\n",
    "    def enQueue(self, value: int) -> bool:\n",
    "        if self.q[self.p2] is None:\n",
    "            self.q[self.p2 + 1] \n",
    "\n",
    "    def deQueue(self) -> bool:\n",
    "        \n",
    "\n",
    "    def Front(self) -> int:\n",
    "        \n",
    "\n",
    "    def Rear(self) -> int:\n",
    "        \n",
    "\n",
    "    def isEmpty(self) -> bool:\n",
    "        \n",
    "\n",
    "    def isFull(self) -> bool:"
   ]
  },
  {
   "cell_type": "code",
   "execution_count": null,
   "metadata": {},
   "outputs": [],
   "source": []
  },
  {
   "cell_type": "code",
   "execution_count": null,
   "metadata": {},
   "outputs": [],
   "source": []
  },
  {
   "cell_type": "code",
   "execution_count": null,
   "metadata": {},
   "outputs": [],
   "source": []
  }
 ],
 "metadata": {
  "kernelspec": {
   "display_name": "Python 3",
   "language": "python",
   "name": "python3"
  },
  "language_info": {
   "codemirror_mode": {
    "name": "ipython",
    "version": 3
   },
   "file_extension": ".py",
   "mimetype": "text/x-python",
   "name": "python",
   "nbconvert_exporter": "python",
   "pygments_lexer": "ipython3",
   "version": "3.7.9"
  }
 },
 "nbformat": 4,
 "nbformat_minor": 4
}
